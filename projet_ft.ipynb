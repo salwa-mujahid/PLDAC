{
  "cells": [
    {
      "cell_type": "markdown",
      "metadata": {
        "id": "5pt20UUno97-"
      },
      "source": [
        "# Projet PLDAC\n",
        "- Fichier pour exécuter les modèles de langages de Hugging Face à fine-tuner\n",
        "- A exécuter sur Google Colab de préférence"
      ]
    },
    {
      "cell_type": "markdown",
      "metadata": {
        "id": "HPMr7_dXtc-V"
      },
      "source": [
        "## Imports and Functions"
      ]
    },
    {
      "cell_type": "code",
      "execution_count": null,
      "metadata": {
        "id": "no25oQ3zW0w1"
      },
      "outputs": [],
      "source": [
        "# Exécuter ce code, puis redémarrer la session\n",
        "\n",
        "%pip install accelerate -U"
      ]
    },
    {
      "cell_type": "code",
      "execution_count": 1,
      "metadata": {
        "id": "EAeB89Qptc-Z"
      },
      "outputs": [],
      "source": [
        "import numpy as np\n",
        "import pandas as pd\n",
        "import matplotlib.pyplot as plt\n",
        "import re\n",
        "import os\n",
        "\n",
        "# Datasets and functions\n",
        "from sklearn import datasets\n",
        "from sklearn.model_selection import train_test_split\n",
        "\n",
        "# Pré-modèles\n",
        "from transformers import GPT2LMHeadModel, GPT2Tokenizer\n",
        "from transformers import TextDataset, DataCollatorForLanguageModeling, Trainer, TrainingArguments\n",
        "from transformers import AutoTokenizer, AutoModelForSequenceClassification"
      ]
    },
    {
      "cell_type": "code",
      "execution_count": 2,
      "metadata": {
        "id": "KozAqtaZtc-d"
      },
      "outputs": [],
      "source": [
        "# -------------------------------------------\n",
        "# TRANSFORMATION DATAFRAME\n",
        "\n",
        "# Transformation de la valeur en texte\n",
        "def text_type_select(value, feature, select=0) :\n",
        "    \"\"\" Retourne un type de texte selon la sélection\n",
        "    0. <value> <feature>\n",
        "    1. <value> <unit> of <name> (avec feature = (<name>, <unit>))\n",
        "\n",
        "    Args:\n",
        "        - `value` (float): la valeur du feature\n",
        "        - `feature` (str): le nom de feature\n",
        "        - `select` (int, optional): Type de texte à sélectionner. Defaults to 0.\n",
        "\n",
        "    Returns:\n",
        "        str: Texte retourné\n",
        "    \"\"\"\n",
        "    if select == 0 :\n",
        "        return str(value) + \" \" + str(feature)\n",
        "    if select == 1 :\n",
        "        name, unit = feature\n",
        "        return str(value) + \" \" + str(unit) + \" of \" + str(name)\n",
        "\n",
        "def row_text_type_select(Xi:pd.DataFrame, yi:pd.DataFrame, feature_names, has_unit_vector, subject_name = \"subject\", select=0) :\n",
        "  # generate text type\n",
        "    value_feature_text_list = [text_type_select(value, feature, select=1) if has_unit_vector[i] \\\n",
        "                               else text_type_select(value, feature, select=0) \\\n",
        "                               for i, (value, feature) in enumerate(zip(Xi, feature_names))]\n",
        "\n",
        "    # generate text\n",
        "    text = \"The \" + subject_name + \" with \"\n",
        "    for vf in value_feature_text_list[:-1] :\n",
        "        text += vf + \", \"\n",
        "    text = text[:-2]\n",
        "    text += \" and \" + value_feature_text_list[-1]\n",
        "    if select == 0 :\n",
        "      text += \" is \" + str(yi)\n",
        "    return text\n",
        "\n",
        "# Transformation d'une ligne en texte\n",
        "def df_row_to_text(Xi:pd.DataFrame, yi:pd.DataFrame, feature_names, subject_name = \"subject\", has_unit=False, select=0) :\n",
        "    \"\"\" Pour une ligne d'un DataFrame, génère un texte expliquant la ligne\n",
        "\n",
        "    Args:\n",
        "        - `Xi` (pd.DataFrame): Un exemple de features\n",
        "        - `yi` (pd.DataFrame): Un label\n",
        "        - `feature_names` (List[str]): une liste de colonnes\n",
        "        - `subject_name` (str, optional): Le nom du sujet pour l'affichage. Defaults to \"subject\".\n",
        "        - `has_unit` (bool, optional): _description_. Defaults to True.\n",
        "\n",
        "    Returns:\n",
        "        str: Le texte généré\n",
        "    \"\"\"\n",
        "\n",
        "    # features name - unit\n",
        "    if has_unit :\n",
        "        try :\n",
        "            regex_unit_pattern = r'([\\w ]+)\\s+\\((\\w+)\\)$'\n",
        "            feature_names = [re.search(regex_unit_pattern, feature).groups() for feature in feature_names]\n",
        "            has_unit_vector = [True if len(tuple) == 2 else False for tuple in feature_names]\n",
        "        except :\n",
        "            has_unit_vector = [False for _ in feature_names]\n",
        "    else :\n",
        "        has_unit_vector = [False for _ in feature_names]\n",
        "\n",
        "    return row_text_type_select(Xi, yi, feature_names, has_unit_vector, subject_name = subject_name, select=select)\n",
        "\n",
        "# Liste de textes\n",
        "def df_texts_list(X:pd.DataFrame, y:pd.DataFrame, **kwargs) :\n",
        "    \"\"\" Génère la liste de textes à partir des features X et des labels y\n",
        "\n",
        "    Args:\n",
        "        - `X` (pd.DataFrame): features\n",
        "        - `y` (pd.DataFrame): labels\n",
        "        - `subject_name` (str, optional): _description_. Defaults to \"subject\".\n",
        "        - `has_unit` (bool, optional): _description_. Defaults to False.\n",
        "\n",
        "    Returns:\n",
        "        List[str]: une liste de textes des lignes du dataset\n",
        "    \"\"\"\n",
        "    return [df_row_to_text(X.iloc[i], y.iloc[i], X.columns, **kwargs) for i in range(len(X))]\n",
        "\n",
        "# DataFrame Texte (Main)\n",
        "def data_to_df_text(data, target=None, feature_names=None, target_names=None, **kwargs) :\n",
        "    \"\"\"\n",
        "\n",
        "    Args:\n",
        "        - `data` (Dict | pd.DataFrame): Si `target` n'est pas spécifié, alors un dictionnaire contenant\n",
        "        'data', 'target', 'feature_names' et 'target_names', sinon un DataFrame de features\n",
        "        - `target` (pd.DataFrame, optional): Un DataFrame de labels. Defaults to None.\n",
        "        - `feature_names` (List[str], optional): Une liste de noms de features. Defaults to None.\n",
        "        - `target_names` (List[str], optional): Une liste de noms de labels. Defaults to None.\n",
        "\n",
        "    Returns:\n",
        "        pd.Series: liste de textes transformés en pd.Series\n",
        "    \"\"\"\n",
        "    if target is None :\n",
        "        if 'feature_names' in data :\n",
        "            X = pd.DataFrame(data['data'], columns=data['feature_names'])\n",
        "        else :\n",
        "            X = pd.DataFrame(data['data'])\n",
        "        y = pd.Series(data['target'])\n",
        "        if 'target_names' in data :\n",
        "            y = y.map({i:label for i, label in enumerate(data['target_names'])})\n",
        "    else :\n",
        "        if feature_names is not None :\n",
        "            X = pd.DataFrame(data, columns=feature_names)\n",
        "        else :\n",
        "            X = pd.DataFrame(data)\n",
        "        y = pd.Series(target)\n",
        "        if target_names is not None :\n",
        "            y = y.map({i:label for i, label in enumerate(target_names)})\n",
        "    return pd.Series(df_texts_list(X, y, **kwargs))\n",
        "\n",
        "# DataFrame Display (Main)\n",
        "def display_df(df:pd.DataFrame) :\n",
        "    \"\"\" Permet de voir le DataFrame en entier\n",
        "\n",
        "    Args:\n",
        "        - `df` (pd.DataFrame): Le DataFrame à afficher\n",
        "    \"\"\"\n",
        "    pd.set_option('display.max_rows', None)\n",
        "    pd.set_option('display.max_colwidth', None)\n",
        "    print(df)\n",
        "    pd.reset_option('display.max_rows')\n",
        "    pd.reset_option('display.max_colwidth')\n",
        "\n",
        "# -------------------------------------------\n",
        "# TRAINING\n",
        "\n",
        "# Training (Main) à améliorer (comme ajouter des métriques)\n",
        "def train_clf(clf, X_train, y_train) :\n",
        "    \"\"\"_summary_\n",
        "\n",
        "    Args:\n",
        "        - `clf` (_type_): classifieur à entraîner\n",
        "        - `X_train` (pd.DataFrame): features\n",
        "        - `y_train` (pd.DataFrame): labels\n",
        "    \"\"\"\n",
        "    clf.fit(X_train, y_train)\n",
        "    print(clf.predict(X_train))\n",
        "\n",
        "# -------------------------------------------\n",
        "# TRAITEMENT\n",
        "\n",
        "# Récupérer la liste de features et le nom de label de la question\n",
        "def question_to_list(q) :\n",
        "    \"\"\" Décompose la question en liste de features et détecte le nom type de label\n",
        "\n",
        "    Args:\n",
        "        - `q` (str): La question sous le format : \"When we have <feature_1>=<value_1>,\n",
        "        <feature_2>=<value_2>, ..., <feature_n>=<value_n>, what should be the <label_type_name> ?\"\n",
        "\n",
        "    Returns:\n",
        "        List[str], str: une liste de features et un nom type de label\n",
        "    \"\"\"\n",
        "    pattern = r'be (.*) \\?'\n",
        "    match = re.search(pattern, q)\n",
        "    a_label = match.group(1)\n",
        "\n",
        "    pattern = r'have (.*), what'\n",
        "    match = re.search(pattern, q.strip())\n",
        "    a_features = match.group(1)\n",
        "    a_list_features = a_features.split(',')\n",
        "    a_list_features = [feature.strip() for feature in a_list_features]\n",
        "\n",
        "    return a_list_features, a_label\n",
        "\n",
        "\n",
        "# Transformation d'une ligne de Dataset en question (pour pouvoir tester et vérifier)\n",
        "def df_row_to_question(X:pd.DataFrame, feature_names, subject=\"subject\") :\n",
        "    # Question --> When we have sepal length (cm)=0.3, sepal width (cm)=0.4, petal length (cm)=0.1, petal width (cm)=0.2, what should be the iris type ?\n",
        "    # Réponse --> When we have sepal length (cm)=0.3, sepal width (cm)=0.4, petal length (cm)=0.1, petal width (cm)=0.2, the iris type is setosa\n",
        "\n",
        "    list_res = []\n",
        "    for index, row in X.iterrows() :\n",
        "        res = \"When we have \"\n",
        "        # print(\"----------------\")\n",
        "        for feature, value in zip(feature_names, row) :\n",
        "            # print(feature, \":\", value)\n",
        "            res += feature + \"=\" + str(value) + \", \"\n",
        "        res += \"what should be the \" + subject + \" ?\"\n",
        "        list_res.append(res)\n",
        "    return list_res\n",
        "\n",
        "# Transformer en DataFrame pour faire passer dans le calcul de prédiction\n",
        "def question_to_df(q) :\n",
        "    \"\"\" Transforme la question en DataFrame permettant de mieux analyser (faire passer en predict d'un classifieur)\n",
        "\n",
        "    Args:\n",
        "        - `q` (str): La question sous le format : \"When we have <feature_1>=<value_1>,\n",
        "        <feature_2>=<value_2>, ..., <feature_n>=<value_n>, what should be the <label_type_name> ?\"\n",
        "\n",
        "    Returns:\n",
        "        pd.DataFrame: un DataFrame correspondant à la question\n",
        "    \"\"\"\n",
        "    a_list_features, _ = question_to_list(q)\n",
        "    a_list_features_split = [feature.split('=') for feature in a_list_features]\n",
        "    a_features_names = [feature[0] for feature in a_list_features_split]\n",
        "    try :\n",
        "        a_features_values = [float(feature[1]) for feature in a_list_features_split]\n",
        "    except :\n",
        "        a_features_values = [feature[1] for feature in a_list_features_split]\n",
        "    return pd.DataFrame(data=np.array([a_features_values]), columns=a_features_names)\n",
        "\n",
        "# Prédiction de la réponse\n",
        "def q_df_to_answer(clf, df) :\n",
        "    \"\"\" Prédit le label grâce au DataFrame généré par la question\n",
        "\n",
        "    Args:\n",
        "        - `clf` (_type_): un classifieur\n",
        "        - `df` (pd.DataFrame): un DataFrame\n",
        "\n",
        "    Returns:\n",
        "        str: le label prédit\n",
        "    \"\"\"\n",
        "    return clf.predict(df)[0]\n",
        "\n",
        "# Format de q et a en texte\n",
        "def answer_to_text(q, a) :\n",
        "    \"\"\" Permet de rendre les questions et le label réponse dans un format qui donne la réponse\n",
        "\n",
        "    Args:\n",
        "        - `q` (str): question\n",
        "        - `a` (str): label réponse\n",
        "\n",
        "    Returns:\n",
        "        str: le format de la réponse que le modèle doit donner\n",
        "    \"\"\"\n",
        "    _, a_label = question_to_list(q)\n",
        "    pattern = r'what .* \\?'\n",
        "    qa = re.sub(pattern, '', q.strip())\n",
        "    return qa.strip() + \" \" + a_label + \" is \" + str(a)\n",
        "\n",
        "# Réponse du programme à partir de la question\n",
        "def traitement_question(clf, q) :\n",
        "    \"\"\" Traitement de la question `q` qui utilise un classifieur `clf` pour générer une réponse\n",
        "\n",
        "    Args:\n",
        "        - `clf` (_type_): classifieur\n",
        "        - `q` (str): question\n",
        "\n",
        "    Returns:\n",
        "        str: la réponse à la question `q`\n",
        "    \"\"\"\n",
        "    q_df = question_to_df(q)\n",
        "    a = q_df_to_answer(clf, q_df)\n",
        "    return answer_to_text(q, a)"
      ]
    },
    {
      "cell_type": "code",
      "execution_count": 3,
      "metadata": {
        "id": "-Sb39DD_tc-g"
      },
      "outputs": [],
      "source": [
        "# Fine-tuning du modèle\n",
        "def train_premodel(model_name=\"gpt2\", dataset_path=\"./iris_dataset.txt\", save_path=\"./fine-tuned-gpt2\") :\n",
        "    \"\"\" Permet de fine-tuner un modèle pré-entraîné de hugging face, ici c'est plus spécifiquement GPT-2\n",
        "\n",
        "    Args:\n",
        "        - `model_name` (str, optional): le nom du modèle de hugging face. Defaults to \"gpt2\".\n",
        "        - `dataset_path` (str, optional): le chemin d'accès du dataset. Defaults to \"./iris_dataset.txt\".\n",
        "        - `save_path` (str, optional): le chemin d'accès pour sauvegarder le modèle fine-tuné. Defaults to \"./fine-tuned-gpt2\".\n",
        "    \"\"\"\n",
        "\n",
        "    # Load pre-trained GPT-2 model and tokenizer\n",
        "    model = GPT2LMHeadModel.from_pretrained(model_name)\n",
        "    tokenizer = GPT2Tokenizer.from_pretrained(model_name)\n",
        "    dataset = TextDataset(tokenizer=tokenizer, file_path=dataset_path, block_size=128)\n",
        "    data_collator = DataCollatorForLanguageModeling(tokenizer=tokenizer, mlm=False)\n",
        "\n",
        "    # Define training arguments\n",
        "    training_args = TrainingArguments(\n",
        "        output_dir=save_path,\n",
        "        overwrite_output_dir=True,\n",
        "        num_train_epochs=1,\n",
        "        per_device_train_batch_size=4,\n",
        "        save_total_limit=2,\n",
        "    )\n",
        "\n",
        "    # Create Trainer instance\n",
        "    trainer = Trainer(\n",
        "        model=model,\n",
        "        args=training_args,\n",
        "        data_collator=data_collator,\n",
        "        train_dataset=dataset,\n",
        "    )\n",
        "\n",
        "    trainer.train()\n",
        "    model.save_pretrained(save_path)\n",
        "\n",
        "# Récupérer le model et le tokenizer\n",
        "def get_model_tokenizer(model_path=\"./fine-tuned-gpt2\", tokenizer_path=\"gpt2\") :\n",
        "    \"\"\" Récupérer le modèle et le tokenizer\n",
        "\n",
        "    Args:\n",
        "        - `model_path` (str, optional): le chemin d'accès du modèle fine-tuné. Defaults to \"./fine-tuned-gpt2\".\n",
        "        - `tokenizer_path` (str, optional): le chemin d'accès du tokenizer. Defaults to \"gpt2\".\n",
        "\n",
        "    Returns:\n",
        "        _type_: le model et le tokenizer\n",
        "    \"\"\"\n",
        "    # Load fine-tuned GPT-2 model and tokenizer\n",
        "    model_path = model_path\n",
        "    tokenizer_path = tokenizer_path\n",
        "    model = GPT2LMHeadModel.from_pretrained(model_path, local_files_only=True)\n",
        "    tokenizer = GPT2Tokenizer.from_pretrained(tokenizer_path)\n",
        "    return model, tokenizer\n",
        "\n",
        "# Tester le modèle\n",
        "def test_premodel(model, tokenizer, prompt=\"The flower with\", max_length=100, temperature=1, top_k=1) :\n",
        "    \"\"\" Teste le modèle fine-tuné\n",
        "\n",
        "    Args:\n",
        "        - `model` (_type_): le modèle\n",
        "        - `tokenizer` (_type_): le tokenizer\n",
        "        - `prompt` (str, optional): le prompt avec lequel le modèle va générer un texte. Defaults to \"The flower with\".\n",
        "        - `max_length` (int, optional): longueur maximale de la réponse. Defaults to 100.\n",
        "        - `temperature` (int, optional): température de la réponse. Defaults to 1.\n",
        "        - `top_k` (int, optional): le top k de la réponse. Defaults to 1.\n",
        "    \"\"\"\n",
        "\n",
        "    # Generate text samples\n",
        "    input_ids = tokenizer.encode(prompt, return_tensors=\"pt\")\n",
        "    output = model.generate(input_ids, max_length=max_length, num_return_sequences=1, temperature=temperature, top_k=top_k) # top_k=50\n",
        "\n",
        "    # Decode generated output\n",
        "    generated_texts = tokenizer.batch_decode(output, skip_special_tokens=True)\n",
        "\n",
        "    # Print generated texts\n",
        "    print(generated_texts[0])"
      ]
    },
    {
      "cell_type": "markdown",
      "metadata": {
        "id": "Vam-RIk6tc-i"
      },
      "source": [
        "## 1. Préparation du Dataset"
      ]
    },
    {
      "cell_type": "code",
      "execution_count": 4,
      "metadata": {
        "id": "N0LA4uWNtc-i"
      },
      "outputs": [],
      "source": [
        "# 1. Chargement du Dataset Iris\n",
        "\n",
        "iris = datasets.load_iris()\n",
        "X = pd.DataFrame(iris['data'], columns=iris['feature_names'])\n",
        "y = pd.Series(iris['target']).map({i:label for i, label in enumerate(iris['target_names'])})"
      ]
    },
    {
      "cell_type": "code",
      "execution_count": 5,
      "metadata": {
        "id": "3tHMHAUptc-l"
      },
      "outputs": [],
      "source": [
        "test_size = 0.2\n",
        "X_train, X_test, y_train, y_test = train_test_split(X, y, test_size=test_size, random_state=42)"
      ]
    },
    {
      "cell_type": "code",
      "execution_count": 6,
      "metadata": {
        "colab": {
          "base_uri": "https://localhost:8080/"
        },
        "id": "ImemGEc-tc-o",
        "outputId": "9dc54970-5b09-470a-c146-7bd3bb4f97ff"
      },
      "outputs": [
        {
          "data": {
            "text/plain": [
              "0    The flower with 5.1 cm of sepal length, 3.5 cm...\n",
              "1    The flower with 4.9 cm of sepal length, 3.0 cm...\n",
              "2    The flower with 4.7 cm of sepal length, 3.2 cm...\n",
              "3    The flower with 4.6 cm of sepal length, 3.1 cm...\n",
              "4    The flower with 5.0 cm of sepal length, 3.6 cm...\n",
              "5    The flower with 5.4 cm of sepal length, 3.9 cm...\n",
              "6    The flower with 4.6 cm of sepal length, 3.4 cm...\n",
              "7    The flower with 5.0 cm of sepal length, 3.4 cm...\n",
              "8    The flower with 4.4 cm of sepal length, 2.9 cm...\n",
              "9    The flower with 4.9 cm of sepal length, 3.1 cm...\n",
              "dtype: object"
            ]
          },
          "execution_count": 6,
          "metadata": {},
          "output_type": "execute_result"
        }
      ],
      "source": [
        "# 2.3. Création d'un nouveau DF\n",
        "\n",
        "iris_text_df = data_to_df_text(iris, subject_name=\"flower\", has_unit=True)\n",
        "iris_text_df.head(10)"
      ]
    },
    {
      "cell_type": "markdown",
      "metadata": {
        "id": "NqE5ZyFAtc-u"
      },
      "source": [
        "## 2. Avec modèles de langage pré-entraînés"
      ]
    },
    {
      "cell_type": "markdown",
      "metadata": {
        "id": "xH3_jsRftc-u"
      },
      "source": [
        "### GPT-2"
      ]
    },
    {
      "cell_type": "markdown",
      "metadata": {
        "id": "m5hsX9kne5wn"
      },
      "source": [
        "#### Tests sans Fine-tuning"
      ]
    },
    {
      "cell_type": "code",
      "execution_count": 22,
      "metadata": {
        "colab": {
          "base_uri": "https://localhost:8080/",
          "height": 241,
          "referenced_widgets": [
            "97b8d5a6c83344de84bc67af070e6e0b",
            "fb28ef4b9a9c49d0abc5c8824ce908fc",
            "8545d83b365f46d59ab0ff219aecc535",
            "dea85601d74b46eda0e8eba68e0e3943",
            "fe2d9a1535ea49ac8f166b079511db6e",
            "2019e71139404d95bc6e86f5d26dff0b",
            "82ffcba3bb784555b9152205b1aef19d",
            "0a470824ecff4964b4c4b502c468863b",
            "1aa0e2f4e9c048b1b5e23a28ce5ac4f1",
            "565443a933cc4fa8838ef4989bc30312",
            "c3467ecc18014ff5a5a854744a6452bd",
            "b755b683f92743efa55cb79074ecf131",
            "4ea4b092c983446c942eebd81e927179",
            "1077d185eb07447792e54c89e3829afd",
            "d6749577c838497bafa23c15e576b3f1",
            "1bf7c9ed2325476c9e8125ed522c2bb7",
            "37387afdec24441d9ee97545cd23b458",
            "8ee80429a0184dc4b0db62af9e29ebb3",
            "74f76f644f43449a88b6de443153301d",
            "490e948bccdc40babe800b646b92847e",
            "33b7271a355d402ea7f01816acc859c7",
            "d4d83fd5591c4e01acbdae8860b75718",
            "7a1252e721d34a0397763e4599483251",
            "0527508bd86040be8f590daeb4ca53d2",
            "840ae180cadb42089a0df7cdedeba889",
            "489f10b22fc047d3b68b6aabe55e5284",
            "afd00a6cb7dc41c082a6687b825d82a6",
            "5d35c4c944c343da8044d659b3d421d9",
            "bd59ca30616343d2b22071757f147cd9",
            "6d4390cf2e01422291a05098402b7e47",
            "b67316285a6043e88f9cb997f1cee4f2",
            "d5e48505a8bb4fa08dbaec195aacc972",
            "82b8d927c06b41d9b1a4fb82d3a791e3",
            "05053ed6dc2047ea8bc0ef6661b1ef4a",
            "ab57fec47f934759b128866cc25c8eb7",
            "8230885a0a7e4f529f8718dae3f1e2e0",
            "59ca0821cd314f0e8da0a48949d1cb77",
            "6428edc4315e406bb9171b498d9e0b40",
            "9a6c7a0664c64406b50124c96bbe54d3",
            "da2b24c10f1a4264a8a5528b71eef5c2",
            "eb4bedebf6ed46abad3c0337d5fa91b4",
            "7185cb6cf68243e7828d8d53d010d597",
            "6832e00fe5a04ae5b1e4bb680fcae4f8",
            "87b0bcedfa8e40708724934b29cbcddc",
            "deebded9bc454531bce0ccc3ce29f38d",
            "cbc9731691cc4f84bd6acf28854ab35a",
            "36feed5bc9364379a26f770d9e8aeaa0",
            "360c55617b6247b19cd08086040e9217",
            "cf981aa5ae4b4cdf8b9144e2b1bad967",
            "ef0af6b244514895ac9662a540615261",
            "fd26e13ca5ee4f1d869d4ee07f7428bb",
            "2394515a7f9f406895bbc8d39b95d4f0",
            "83e11f7ff2674ac4b588f41d259dc3ac",
            "a05d7d03586c4b5a838744169a63673a",
            "28c6ee991fc546928f471e1e332b9916",
            "9a486306fddd46dfbafb2f1134830021",
            "b5cbbce4ec8449179005f1d9a6bb662f",
            "66aa86f9a92e4250bbe640040d2037ea",
            "afadba1efed449bfae993d05b89717d4",
            "ebc85f6535b5427a88cd79d2703bd146",
            "46c34b20b04c4e889cf332e03e15ef45",
            "3e1800e778444a03b0af819fb3e105b9",
            "9ed71f1521e34c4495e55568b83e4570",
            "87c614c2d7614333b0845bf373918249",
            "a39e735e9ded485b8ff66b9af1ace2b0",
            "54b79544cbe1401da73bed344f670288",
            "ecef65044fe94ee0869b94edbad77bc2",
            "7823c43248f244e78896ef70906cb9f0",
            "dfa0506d4c3e4f1999869f50a0a4237a",
            "a2243bef5fac47b5ab813f27c1f2b4b1",
            "d7711da50db74e3f9394b009bc187279",
            "ab74872283044dbf9bf80becad025b57",
            "b4f78a2c17c14601876c8dd529d3a09b",
            "e1e8dd9c682043f1b25a095e61ad49bc",
            "d668fa22297342edb98cd64d3b07b78e",
            "d0bbd946c46d4f75a80ebe63ffe0a90a",
            "6fb03a956e60402a90d97ce5c0c1e8f5"
          ]
        },
        "id": "m9ZAPEN5fg50",
        "outputId": "4f2e1e54-4e1a-43c2-b56a-1385722cc369"
      },
      "outputs": [
        {
          "data": {
            "application/vnd.jupyter.widget-view+json": {
              "model_id": "97b8d5a6c83344de84bc67af070e6e0b",
              "version_major": 2,
              "version_minor": 0
            },
            "text/plain": [
              "config.json:   0%|          | 0.00/665 [00:00<?, ?B/s]"
            ]
          },
          "metadata": {},
          "output_type": "display_data"
        },
        {
          "data": {
            "application/vnd.jupyter.widget-view+json": {
              "model_id": "b755b683f92743efa55cb79074ecf131",
              "version_major": 2,
              "version_minor": 0
            },
            "text/plain": [
              "model.safetensors:   0%|          | 0.00/548M [00:00<?, ?B/s]"
            ]
          },
          "metadata": {},
          "output_type": "display_data"
        },
        {
          "data": {
            "application/vnd.jupyter.widget-view+json": {
              "model_id": "7a1252e721d34a0397763e4599483251",
              "version_major": 2,
              "version_minor": 0
            },
            "text/plain": [
              "generation_config.json:   0%|          | 0.00/124 [00:00<?, ?B/s]"
            ]
          },
          "metadata": {},
          "output_type": "display_data"
        },
        {
          "data": {
            "application/vnd.jupyter.widget-view+json": {
              "model_id": "05053ed6dc2047ea8bc0ef6661b1ef4a",
              "version_major": 2,
              "version_minor": 0
            },
            "text/plain": [
              "tokenizer_config.json:   0%|          | 0.00/26.0 [00:00<?, ?B/s]"
            ]
          },
          "metadata": {},
          "output_type": "display_data"
        },
        {
          "data": {
            "application/vnd.jupyter.widget-view+json": {
              "model_id": "deebded9bc454531bce0ccc3ce29f38d",
              "version_major": 2,
              "version_minor": 0
            },
            "text/plain": [
              "vocab.json:   0%|          | 0.00/1.04M [00:00<?, ?B/s]"
            ]
          },
          "metadata": {},
          "output_type": "display_data"
        },
        {
          "data": {
            "application/vnd.jupyter.widget-view+json": {
              "model_id": "9a486306fddd46dfbafb2f1134830021",
              "version_major": 2,
              "version_minor": 0
            },
            "text/plain": [
              "merges.txt:   0%|          | 0.00/456k [00:00<?, ?B/s]"
            ]
          },
          "metadata": {},
          "output_type": "display_data"
        },
        {
          "data": {
            "application/vnd.jupyter.widget-view+json": {
              "model_id": "ecef65044fe94ee0869b94edbad77bc2",
              "version_major": 2,
              "version_minor": 0
            },
            "text/plain": [
              "tokenizer.json:   0%|          | 0.00/1.36M [00:00<?, ?B/s]"
            ]
          },
          "metadata": {},
          "output_type": "display_data"
        }
      ],
      "source": [
        "# Test GPT-2 without fine-tuning\n",
        "\n",
        "# ---------------------------------\n",
        "# First row : The flower with 5.1 cm of sepal length, 3.5 cm of sepal width, 1.4 cm of petal length and 0.2 cm of petal width is a setosa.\n",
        "# Row 51 : The flower with 7.0 cm of sepal length, 3.2 cm of sepal width, 4.7 cm of petal length and 1.4 cm of petal width is a versicolor.\n",
        "# Row 101 : The flower with 6.3 cm of sepal length, 3.3 cm of sepal width, 6.0 cm of petal length and 2.5 cm of petal width is a virginica.\n",
        "# ---------------------------------\n",
        "\n",
        "# Récupérer le modèle\n",
        "model_name = \"gpt2\"\n",
        "model = GPT2LMHeadModel.from_pretrained(model_name)\n",
        "tokenizer = GPT2Tokenizer.from_pretrained(model_name)"
      ]
    },
    {
      "cell_type": "code",
      "execution_count": 23,
      "metadata": {
        "colab": {
          "base_uri": "https://localhost:8080/"
        },
        "id": "4N54PzYbgcjn",
        "outputId": "2c72f535-c50a-4f14-d3dc-32dd1fdce1ba"
      },
      "outputs": [
        {
          "name": "stderr",
          "output_type": "stream",
          "text": [
            "/usr/local/lib/python3.10/dist-packages/transformers/generation/configuration_utils.py:509: UserWarning: `do_sample` is set to `False`. However, `top_k` is set to `1` -- this flag is only used in sample-based generation modes. You should set `do_sample=True` or unset `top_k`.\n",
            "  warnings.warn(\n",
            "The attention mask and the pad token id were not set. As a consequence, you may observe unexpected behavior. Please pass your input's `attention_mask` to obtain reliable results.\n",
            "Setting `pad_token_id` to `eos_token_id`:50256 for open-end generation.\n"
          ]
        },
        {
          "name": "stdout",
          "output_type": "stream",
          "text": [
            "Once upon a time, the world was a place of great beauty and great danger. The world was a place of great danger, and the world was a place of great danger. The world was a place of great danger, and the world was a place of great danger. The world was a place of great danger, and the world was a place of great danger. The world was a place of great danger, and the world was a place of great danger. The world was a place of great danger, and the world was a place of great danger. The world was a place of great danger, and the world was a place of great danger. The world was a place of great danger, and the world was a place of great danger.\n"
          ]
        }
      ],
      "source": [
        "test_premodel(model, tokenizer, \"Once upon a time\", max_length=150)"
      ]
    },
    {
      "cell_type": "code",
      "execution_count": 24,
      "metadata": {
        "colab": {
          "base_uri": "https://localhost:8080/"
        },
        "id": "mcjvtriybg8y",
        "outputId": "caf4e3ae-aa45-4c5a-b939-8e381b700ec8"
      },
      "outputs": [
        {
          "name": "stderr",
          "output_type": "stream",
          "text": [
            "The attention mask and the pad token id were not set. As a consequence, you may observe unexpected behavior. Please pass your input's `attention_mask` to obtain reliable results.\n",
            "Setting `pad_token_id` to `eos_token_id`:50256 for open-end generation.\n"
          ]
        },
        {
          "name": "stdout",
          "output_type": "stream",
          "text": [
            "The flower with the red flower is the same as the one with the blue flower.\n",
            "\n",
            "The flower with the red flower is the same as the one with the blue flower. The flower with the green flower is the same as the one with the red flower.\n",
            "\n",
            "The flower with the green flower is the same as the one with the red flower. The flower with the yellow flower is the same as the one with the yellow flower.\n",
            "\n",
            "The flower with the yellow flower is the same as the one with the yellow flower. The flower with the purple flower is the same as the one with the purple flower.\n",
            "\n",
            "The flower with the purple flower is the same as the one with the purple flower. The flower with the red flower\n"
          ]
        }
      ],
      "source": [
        "test_premodel(model, tokenizer, \"The flower with\", max_length=150)"
      ]
    },
    {
      "cell_type": "code",
      "execution_count": 25,
      "metadata": {
        "colab": {
          "base_uri": "https://localhost:8080/"
        },
        "id": "sxd50BRafbX4",
        "outputId": "108a0f5e-a8be-45f1-f408-d462d5254039"
      },
      "outputs": [
        {
          "name": "stderr",
          "output_type": "stream",
          "text": [
            "The attention mask and the pad token id were not set. As a consequence, you may observe unexpected behavior. Please pass your input's `attention_mask` to obtain reliable results.\n",
            "Setting `pad_token_id` to `eos_token_id`:50256 for open-end generation.\n"
          ]
        },
        {
          "name": "stdout",
          "output_type": "stream",
          "text": [
            "The flower with 6.3 cm of sepal length, 3.3 cm of sepal width, 6.0 cm of petal length and 2.5 cm of petal width is a ichthyosaur.\n",
            "\n",
            "The flower with 6.3 cm of sepal length, 3.3 cm of sepal width, 6.0 cm of petal length and 2.5 cm of petal width is a ichthyosaur. The flower with 6.3 cm of sepal length, 3.3 cm of sepal width, 6.0 cm of petal length and 2.5 cm of petal width is a ichthyosaur.\n",
            "\n",
            "The flower with 6.3 cm of sepal length, 3.3 cm of sepal width, 6.0 cm of petal length and 2.5 cm of petal width is a ichthyosaur. The flower with 6.3 cm of sepal length, 3.3 cm of sepal width, 6.0 cm of petal length and 2.5 cm of petal width is a ichthyosaur.\n",
            "\n",
            "The flower with 6.3 cm of sepal length, 3.3 cm of sepal width, 6.0 cm of petal length and 2.5 cm of petal width is a ichthyosaur. The flower with 6.3 cm of sepal length, 3.3 cm of se\n"
          ]
        }
      ],
      "source": [
        "test_premodel(model, tokenizer, \"The flower with 6.3 cm of sepal length, 3.3 cm of sepal width, 6.0 cm of petal length and 2.5 cm of petal width is a \", max_length=300)"
      ]
    },
    {
      "cell_type": "code",
      "execution_count": 26,
      "metadata": {
        "colab": {
          "base_uri": "https://localhost:8080/"
        },
        "id": "6z_IQAxmhxZ7",
        "outputId": "c6733046-b790-4396-fcf3-c1b3494b051b"
      },
      "outputs": [
        {
          "name": "stderr",
          "output_type": "stream",
          "text": [
            "The attention mask and the pad token id were not set. As a consequence, you may observe unexpected behavior. Please pass your input's `attention_mask` to obtain reliable results.\n",
            "Setting `pad_token_id` to `eos_token_id`:50256 for open-end generation.\n"
          ]
        },
        {
          "name": "stdout",
          "output_type": "stream",
          "text": [
            "The iris with 6.3 cm of sepal length, 3.3 cm of sepal width, 6.0 cm of petal length and 2.5 cm of petal width is a vernal iris. The iris is a small, round, oval shaped iris with a diameter of about 1.5 cm. The iris is a small, round, oval shaped iris with a diameter of about 1.5 cm. The iris is a small, round, oval shaped iris with a diameter of about 1.5 cm. The iris is a small, round, oval shaped iris with a diameter of about 1.5 cm. The iris is a small, round, oval shaped\n"
          ]
        }
      ],
      "source": [
        "test_premodel(model, tokenizer, \"The iris with 6.3 cm of sepal length, 3.3 cm of sepal width, 6.0 cm of petal length and 2.5 cm of petal width is a \", max_length=150)"
      ]
    },
    {
      "cell_type": "code",
      "execution_count": 27,
      "metadata": {
        "colab": {
          "base_uri": "https://localhost:8080/"
        },
        "id": "_AQIsPCifv9u",
        "outputId": "23f0d310-2a8a-4325-d9b7-427507fe2752"
      },
      "outputs": [
        {
          "name": "stderr",
          "output_type": "stream",
          "text": [
            "The attention mask and the pad token id were not set. As a consequence, you may observe unexpected behavior. Please pass your input's `attention_mask` to obtain reliable results.\n",
            "Setting `pad_token_id` to `eos_token_id`:50256 for open-end generation.\n"
          ]
        },
        {
          "name": "stdout",
          "output_type": "stream",
          "text": [
            "The iris with 6.3 cm of sepal length, 3.3 cm of sepal width, 6.0 cm of petal length and 2.5 cm of petal width is a virginica because it is a virginica with a very high degree of sepal length.\n",
            "\n",
            "The iris with 6.3 cm of sepal length, 3.3 cm of sepal width, 6.0 cm of petal length and 2.5 cm of petal width is a virginica because it is a virginica with a very high degree of sepal length. The iris with 6.3 cm of sepal length, 3.3 cm of sepal width, 6.0 cm of petal length\n"
          ]
        }
      ],
      "source": [
        "test_premodel(model, tokenizer, \"The iris with 6.3 cm of sepal length, 3.3 cm of sepal width, 6.0 cm of petal length and 2.5 cm of petal width is a virginica because\", max_length=150)"
      ]
    },
    {
      "cell_type": "markdown",
      "metadata": {
        "id": "rWJLRpckfEaF"
      },
      "source": [
        "#### Fine-tuning"
      ]
    },
    {
      "cell_type": "code",
      "execution_count": 32,
      "metadata": {
        "id": "fST7R3CnWTkI"
      },
      "outputs": [],
      "source": [
        "directory = 'ft_models'\n",
        "if not os.path.exists(directory) :\n",
        "    os.mkdir(path=directory)"
      ]
    },
    {
      "cell_type": "code",
      "execution_count": 33,
      "metadata": {
        "id": "QrNogWGutc-u"
      },
      "outputs": [],
      "source": [
        "# 4. Ecriture dans un fichier dataset.txt\n",
        "# Parce qu'on fait passer un fichier de texte pour le training et non un dataset avec un texte et un label\n",
        "\n",
        "iris_text_df = data_to_df_text(iris, subject_name=\"flower\", has_unit=True, select=0)\n",
        "with open('ft_models/iris_dataset.txt', 'w') as file :\n",
        "    for text in iris_text_df :\n",
        "        file.write(text + '.\\n')"
      ]
    },
    {
      "cell_type": "code",
      "execution_count": 34,
      "metadata": {
        "colab": {
          "base_uri": "https://localhost:8080/"
        },
        "id": "xxLSykEttc-u",
        "outputId": "db67ffbe-93e2-47e2-d4a4-39da86cadaa6"
      },
      "outputs": [
        {
          "name": "stdout",
          "output_type": "stream",
          "text": [
            "Counter : 2 | Update the counter file to overwrite old models folders\n",
            "Directory './ft_models/model2/' created\n",
            "model_name : gpt2\n",
            "dataset_path : ./ft_models/iris_dataset.txt\n",
            "save_path : ./ft_models/model2/fine-tuned-gpt2\n"
          ]
        }
      ],
      "source": [
        "# Définition des paths et création de nouveaux dossiers\n",
        "\n",
        "try :\n",
        "    with open('ft_models/counter.txt', 'r') as file :\n",
        "        counter = file.read().strip()\n",
        "except :\n",
        "    with open('ft_models/counter.txt', 'w') as file :\n",
        "        file.write('1')\n",
        "        counter = '1'\n",
        "\n",
        "with open('ft_models/counter.txt', 'w') as file :\n",
        "    file.write(str(int(counter)+1))\n",
        "\n",
        "folder = './ft_models/'\n",
        "folder_model = 'model' + counter + '/'\n",
        "model_name = 'gpt2'\n",
        "dataset_path = 'iris_dataset.txt'\n",
        "save_path = 'fine-tuned-gpt2'\n",
        "\n",
        "path = os.path.join(folder, folder_model)\n",
        "os.mkdir(path)\n",
        "\n",
        "print(\"Counter :\", counter, \"| Update the counter file to overwrite old models folders\")\n",
        "print(\"Directory '% s' created\" % (folder + folder_model))\n",
        "print(\"model_name : %s\" % model_name)\n",
        "print(\"dataset_path : %s\" % folder + dataset_path)\n",
        "print(\"save_path : %s\" % folder + folder_model + save_path)"
      ]
    },
    {
      "cell_type": "code",
      "execution_count": 35,
      "metadata": {
        "colab": {
          "base_uri": "https://localhost:8080/",
          "height": 75
        },
        "id": "_OaUG5jZtc-v",
        "outputId": "bbbcc245-695b-4256-e79a-e3d8407ec33a"
      },
      "outputs": [
        {
          "data": {
            "text/html": [
              "\n",
              "    <div>\n",
              "      \n",
              "      <progress value='12' max='12' style='width:300px; height:20px; vertical-align: middle;'></progress>\n",
              "      [12/12 01:40, Epoch 1/1]\n",
              "    </div>\n",
              "    <table border=\"1\" class=\"dataframe\">\n",
              "  <thead>\n",
              " <tr style=\"text-align: left;\">\n",
              "      <th>Step</th>\n",
              "      <th>Training Loss</th>\n",
              "    </tr>\n",
              "  </thead>\n",
              "  <tbody>\n",
              "  </tbody>\n",
              "</table><p>"
            ],
            "text/plain": [
              "<IPython.core.display.HTML object>"
            ]
          },
          "metadata": {},
          "output_type": "display_data"
        }
      ],
      "source": [
        "# 5. Hugging Face GPT-2 Training (mettre un temps pour calculer le temps du training)\n",
        "# 15 min sur le dataset iris\n",
        "\n",
        "train_premodel(\n",
        "    model_name = model_name,\n",
        "    dataset_path = folder + dataset_path,\n",
        "    save_path = folder + folder_model + save_path\n",
        ")"
      ]
    },
    {
      "cell_type": "markdown",
      "metadata": {
        "id": "yKoH7ZJqfMB0"
      },
      "source": [
        "#### Tests avec Fine-tuning"
      ]
    },
    {
      "cell_type": "code",
      "execution_count": 36,
      "metadata": {
        "id": "t0a7CGwctc-v"
      },
      "outputs": [],
      "source": [
        "# 6.1. Hugging Face GPT-2 Testing\n",
        "\n",
        "# counter = '1' # Vaut mieux directement modifier le fichier 'counter.txt' mais comme ça, ça fonctionne aussi\n",
        "\n",
        "folder = './ft_models/'\n",
        "folder_model = 'model' + counter + '/'\n",
        "model_name = 'gpt2'\n",
        "dataset_path = 'iris_dataset.txt'\n",
        "save_path = 'fine-tuned-gpt2'\n",
        "\n",
        "model, tokenizer = get_model_tokenizer(\n",
        "    model_path = folder + folder_model + save_path,\n",
        "    tokenizer_path = model_name\n",
        ")"
      ]
    },
    {
      "cell_type": "code",
      "execution_count": 37,
      "metadata": {
        "id": "6njFCF8dinYz"
      },
      "outputs": [],
      "source": [
        "# 6.2. Hugging Face GPT-2 Testing\n",
        "\n",
        "# ---------------------------------\n",
        "# First row : The flower with 5.1 cm of sepal length, 3.5 cm of sepal width, 1.4 cm of petal length and 0.2 cm of petal width is a setosa.\n",
        "# Row 51 : The flower with 7.0 cm of sepal length, 3.2 cm of sepal width, 4.7 cm of petal length and 1.4 cm of petal width is a versicolor.\n",
        "# Row 101 : The flower with 6.3 cm of sepal length, 3.3 cm of sepal width, 6.0 cm of petal length and 2.5 cm of petal width is a virginica.\n",
        "# ---------------------------------"
      ]
    },
    {
      "cell_type": "code",
      "execution_count": 38,
      "metadata": {
        "colab": {
          "base_uri": "https://localhost:8080/"
        },
        "id": "rfmhRMGFilmw",
        "outputId": "c1a966d7-9179-4ad2-cf5b-2f1f3faa5a15"
      },
      "outputs": [
        {
          "name": "stderr",
          "output_type": "stream",
          "text": [
            "/usr/local/lib/python3.10/dist-packages/transformers/generation/configuration_utils.py:509: UserWarning: `do_sample` is set to `False`. However, `top_k` is set to `1` -- this flag is only used in sample-based generation modes. You should set `do_sample=True` or unset `top_k`.\n",
            "  warnings.warn(\n",
            "The attention mask and the pad token id were not set. As a consequence, you may observe unexpected behavior. Please pass your input's `attention_mask` to obtain reliable results.\n",
            "Setting `pad_token_id` to `eos_token_id`:50256 for open-end generation.\n"
          ]
        },
        {
          "name": "stdout",
          "output_type": "stream",
          "text": [
            "The flower with a flower with a flower with a flower with a flower with a flower with a flower with a flower with a flower with a flower with a flower with a flower with a flower with a flower with a flower with a flower with a flower with a flower with a flower with a flower with a flower with a flower with a flower with a flower with a flower with a flower with a flower with a flower with a flower with a flower with a flower with a flower with a flower with a flower with a flower with a flower with a flower with a flower with a flower with a flower with a flower with a flower with a flower with a flower with a flower with a flower with a flower with a flower with a flower with a flower with a flower with a flower with a flower with a flower with a flower with a flower with a flower with a flower with a flower with a flower with a flower with a flower with a flower with a flower with a flower with a flower with a flower with a flower with a flower with a flower with a flower with a flower with a flower with a flower with a flower with a flower with a flower with a flower with a flower with a flower with a flower with a flower with a flower with a flower with a flower with a flower with a flower with a flower with a flower with a flower with a flower with a flower with a flower with a flower with a flower with a flower with a flower with a flower with a flower with a flower with\n"
          ]
        }
      ],
      "source": [
        "# Notre base de données commence par cette phrase\n",
        "\n",
        "test_premodel(model, tokenizer, \"The flower with\", max_length=300)"
      ]
    },
    {
      "cell_type": "code",
      "execution_count": 39,
      "metadata": {
        "colab": {
          "base_uri": "https://localhost:8080/"
        },
        "id": "JVuyQUv-tc-v",
        "outputId": "229155b9-71a2-43c1-b851-96ac245fd2dd"
      },
      "outputs": [
        {
          "name": "stderr",
          "output_type": "stream",
          "text": [
            "The attention mask and the pad token id were not set. As a consequence, you may observe unexpected behavior. Please pass your input's `attention_mask` to obtain reliable results.\n",
            "Setting `pad_token_id` to `eos_token_id`:50256 for open-end generation.\n"
          ]
        },
        {
          "name": "stdout",
          "output_type": "stream",
          "text": [
            "The flower with 6.3 cm of sepal length, 3.3 cm of sepal width, 6.0 cm of petal length and 2.5 cm of petal width is a flower with 6.3 cm of sepal length, 3.3 cm of sepal width, 6.0 cm of petal length and 2.5 cm of petal width is a flower with 6.3 cm of sepal length, 3.3 cm of sepal width, 6.0 cm of petal length and 2.5 cm of petal width is a flower with 6.3 cm of sepal length, 3.3 cm of sepal width, 6.0 cm of petal length and 2.5 cm of petal width is a flower with 6.3 cm of sepal length, 3.3 cm of sepal width, 6.0 cm of petal length and 2.5 cm of petal width is a flower with 6.3 cm of sepal length, 3.3 cm of sepal width, 6.0 cm of petal length and 2.5 cm of petal width is a flower with 6.3 cm of sepal length, 3.3 cm of sepal width, 6.0 cm of petal length and 2.5 cm of petal width is a flower with 6.3 cm of sepal length, 3.3 cm of sepal width, 6.0 cm of pet\n"
          ]
        }
      ],
      "source": [
        "# Sample from Test set\n",
        "\n",
        "test_premodel(model, tokenizer, \"The flower with 6.3 cm of sepal length, 3.3 cm of sepal width, 6.0 cm of petal length and 2.5 cm of petal width is\", max_length=300)"
      ]
    },
    {
      "cell_type": "code",
      "execution_count": 40,
      "metadata": {
        "colab": {
          "base_uri": "https://localhost:8080/"
        },
        "id": "YSKGQA9oDcUd",
        "outputId": "aeefa321-32d5-41e0-d219-9945a97bb76c"
      },
      "outputs": [
        {
          "name": "stderr",
          "output_type": "stream",
          "text": [
            "The attention mask and the pad token id were not set. As a consequence, you may observe unexpected behavior. Please pass your input's `attention_mask` to obtain reliable results.\n",
            "Setting `pad_token_id` to `eos_token_id`:50256 for open-end generation.\n"
          ]
        },
        {
          "name": "stdout",
          "output_type": "stream",
          "text": [
            "The flower with 6.3 cm of sepal length, 3.3 cm of sepal width, 6.0 cm of petal length and 2.5 cm of petal width is a virginica because  it has a flower with 6.3 cm of sepal length, 3.3 cm of sepal width, 6.0 cm of petal length and 2.5 cm of petal width is a virginica because  it has a flower with 6.3 cm of sepal length, 3.3 cm of sepal width, 6.0 cm of petal length and 2.5 cm of petal width is a virginica because  it has a flower with 6.3 cm of sepal length, 3.3 cm of sepal width, 6.0 cm of petal length and 2.5 cm of petal width is a virginica because  it has a flower with 6.3 cm of sepal length, 3.3 cm of sepal width, 6.0 cm of petal length and 2.5 cm of petal width is a virginica because  it has a flower with 6.3 cm of sepal length, 3.3 cm of sepal width, 6.0 cm of petal length and 2.5 cm of petal width is a virginica because  it has a flower with 6.3 cm of sepal length, 3.3 cm of se\n"
          ]
        }
      ],
      "source": [
        "# Sample from Test set\n",
        "\n",
        "test_premodel(model, tokenizer, \"The flower with 6.3 cm of sepal length, 3.3 cm of sepal width, 6.0 cm of petal length and 2.5 cm of petal width is virginica because \", max_length=300)"
      ]
    },
    {
      "cell_type": "code",
      "execution_count": 41,
      "metadata": {
        "colab": {
          "base_uri": "https://localhost:8080/"
        },
        "id": "kZ4wnVxblmBW",
        "outputId": "0cfad9ed-6077-4468-dc05-b1abab75b822"
      },
      "outputs": [
        {
          "name": "stderr",
          "output_type": "stream",
          "text": [
            "The attention mask and the pad token id were not set. As a consequence, you may observe unexpected behavior. Please pass your input's `attention_mask` to obtain reliable results.\n",
            "Setting `pad_token_id` to `eos_token_id`:50256 for open-end generation.\n"
          ]
        },
        {
          "name": "stdout",
          "output_type": "stream",
          "text": [
            "The flower with 5.1 cm of sepal length, 3.5 cm of sepal width, 1.4 cm of petal length and 0.2 cm of petal width is a flower with 5.1 cm of sepal length, 3.5 cm of sepal width, 1.4 cm of petal length and 0.2 cm of petal width is a flower with 5.1 cm of sepal length, 3.5 cm of sepal width, 1.4 cm of petal length and 0.2 cm of petal width is a flower with 5.1 cm of sepal length, 3.5 cm of sepal width, 1.4 cm of petal length and 0.2 cm of petal width is a flower with 5.1 cm of sepal length, 3.5 cm of sepal width, 1.4 cm of petal length and 0.2 cm of petal width is a flower with 5.1 cm of sepal length, 3.5 cm of sepal width, 1.4 cm of petal length and 0.2 cm of petal width is a flower with 5.1 cm of sepal length, 3.5 cm of sepal width, 1.4 cm of petal length and 0.2 cm of petal width is a flower with 5.1 cm of sepal length, 3.5 cm of sepal width, 1.4 cm of pet\n"
          ]
        }
      ],
      "source": [
        "# Sample from Train set\n",
        "\n",
        "test_premodel(model, tokenizer, \"The flower with 5.1 cm of sepal length, 3.5 cm of sepal width, 1.4 cm of petal length and 0.2 cm of petal width is\", max_length=300)"
      ]
    },
    {
      "cell_type": "markdown",
      "metadata": {
        "id": "nEAQlk5ktc-v"
      },
      "source": [
        "### BERT"
      ]
    },
    {
      "cell_type": "markdown",
      "metadata": {},
      "source": [
        "#### Mask-Filling"
      ]
    },
    {
      "cell_type": "code",
      "execution_count": null,
      "metadata": {},
      "outputs": [],
      "source": [
        "from transformers import BertTokenizer, BertForMaskedLM\n",
        "import torch\n",
        "\n",
        "# Load the pre-trained BERT\n",
        "model_name = \"bert-base-uncased\"\n",
        "model = BertForMaskedLM.from_pretrained(model_name)\n",
        "tokenizer = BertTokenizer.from_pretrained(model_name)\n",
        "\n",
        "# Input text\n",
        "input_text = \"The flower with 7.0 cm of sepal length, 3.2 cm of sepal width, 4.7 cm of petal length and 1.4 cm of petal width is a [MASK].\"\n",
        "input_ids = tokenizer.encode(input_text, return_tensors=\"pt\")\n",
        "\n",
        "# Inference\n",
        "with torch.no_grad():\n",
        "  outputs = model(input_ids)\n",
        "\n",
        "# Get the predicted logits\n",
        "masked_index = input_ids[0].tolist().index(tokenizer.mask_token_id)\n",
        "masked_logits = outputs.logits[0, masked_index]\n",
        "\n",
        "top_k = 10\n",
        "top_k_indices = masked_logits.topk(top_k).indices.tolist()\n",
        "predicted_tokens = [tokenizer.convert_ids_to_tokens(index) for index in top_k_indices]\n",
        "\n",
        "print(\"Predicted tokens for the masked position:\", predicted_tokens)"
      ]
    },
    {
      "cell_type": "markdown",
      "metadata": {
        "id": "3Odj43njxCki"
      },
      "source": [
        "#### Preparations"
      ]
    },
    {
      "cell_type": "code",
      "execution_count": 7,
      "metadata": {
        "colab": {
          "base_uri": "https://localhost:8080/"
        },
        "id": "P0dgWvNVxeVu",
        "outputId": "31c138f8-a104-405c-b054-b584074af176"
      },
      "outputs": [
        {
          "name": "stderr",
          "output_type": "stream",
          "text": [
            "/usr/local/lib/python3.10/dist-packages/huggingface_hub/utils/_token.py:88: UserWarning: \n",
            "The secret `HF_TOKEN` does not exist in your Colab secrets.\n",
            "To authenticate with the Hugging Face Hub, create a token in your settings tab (https://huggingface.co/settings/tokens), set it as secret in your Google Colab and restart your session.\n",
            "You will be able to reuse this secret in all of your notebooks.\n",
            "Please note that authentication is recommended but still optional to access public models or datasets.\n",
            "  warnings.warn(\n",
            "Some weights of BertForSequenceClassification were not initialized from the model checkpoint at bert-base-uncased and are newly initialized: ['classifier.bias', 'classifier.weight']\n",
            "You should probably TRAIN this model on a down-stream task to be able to use it for predictions and inference.\n"
          ]
        }
      ],
      "source": [
        "from transformers import BertTokenizer, BertForSequenceClassification, Trainer, TrainingArguments\n",
        "import torch\n",
        "\n",
        "tokenizer = BertTokenizer.from_pretrained('bert-base-uncased')\n",
        "model = BertForSequenceClassification.from_pretrained('bert-base-uncased', num_labels=3)"
      ]
    },
    {
      "cell_type": "code",
      "execution_count": 8,
      "metadata": {
        "colab": {
          "base_uri": "https://localhost:8080/"
        },
        "id": "3-jX5LdKxeVx",
        "outputId": "d4ad4ef6-7b7b-4ca2-900c-ec9ded3658c5"
      },
      "outputs": [
        {
          "data": {
            "text/plain": [
              "dict_keys(['input_ids', 'token_type_ids', 'attention_mask'])"
            ]
          },
          "execution_count": 8,
          "metadata": {},
          "output_type": "execute_result"
        }
      ],
      "source": [
        "iris_text_df = data_to_df_text(iris, subject_name=\"flower\", has_unit=True, select=0)\n",
        "X = list(iris_text_df)\n",
        "y = list(iris['target'])\n",
        "X_train, X_val, y_train, y_val = train_test_split(X, y, test_size=0.2,stratify=y)\n",
        "X_train_tokenized = tokenizer(X_train, padding=True, truncation=True, max_length=512)\n",
        "X_val_tokenized = tokenizer(X_val, padding=True, truncation=True, max_length=512)\n",
        "X_train_tokenized.keys()"
      ]
    },
    {
      "cell_type": "code",
      "execution_count": 9,
      "metadata": {
        "colab": {
          "base_uri": "https://localhost:8080/"
        },
        "id": "GUONYE_r_u0V",
        "outputId": "3a27b115-7cdf-474a-f8cb-cb3f30cb12ee"
      },
      "outputs": [
        {
          "name": "stdout",
          "output_type": "stream",
          "text": [
            "0          The flower with 5.1 cm of sepal length, 3.5 cm of sepal width, 1.4 cm of petal length and 0.2 cm of petal width is setosa\n",
            "1          The flower with 4.9 cm of sepal length, 3.0 cm of sepal width, 1.4 cm of petal length and 0.2 cm of petal width is setosa\n",
            "2          The flower with 4.7 cm of sepal length, 3.2 cm of sepal width, 1.3 cm of petal length and 0.2 cm of petal width is setosa\n",
            "3          The flower with 4.6 cm of sepal length, 3.1 cm of sepal width, 1.5 cm of petal length and 0.2 cm of petal width is setosa\n",
            "4          The flower with 5.0 cm of sepal length, 3.6 cm of sepal width, 1.4 cm of petal length and 0.2 cm of petal width is setosa\n",
            "5          The flower with 5.4 cm of sepal length, 3.9 cm of sepal width, 1.7 cm of petal length and 0.4 cm of petal width is setosa\n",
            "6          The flower with 4.6 cm of sepal length, 3.4 cm of sepal width, 1.4 cm of petal length and 0.3 cm of petal width is setosa\n",
            "7          The flower with 5.0 cm of sepal length, 3.4 cm of sepal width, 1.5 cm of petal length and 0.2 cm of petal width is setosa\n",
            "8          The flower with 4.4 cm of sepal length, 2.9 cm of sepal width, 1.4 cm of petal length and 0.2 cm of petal width is setosa\n",
            "9          The flower with 4.9 cm of sepal length, 3.1 cm of sepal width, 1.5 cm of petal length and 0.1 cm of petal width is setosa\n",
            "10         The flower with 5.4 cm of sepal length, 3.7 cm of sepal width, 1.5 cm of petal length and 0.2 cm of petal width is setosa\n",
            "11         The flower with 4.8 cm of sepal length, 3.4 cm of sepal width, 1.6 cm of petal length and 0.2 cm of petal width is setosa\n",
            "12         The flower with 4.8 cm of sepal length, 3.0 cm of sepal width, 1.4 cm of petal length and 0.1 cm of petal width is setosa\n",
            "13         The flower with 4.3 cm of sepal length, 3.0 cm of sepal width, 1.1 cm of petal length and 0.1 cm of petal width is setosa\n",
            "14         The flower with 5.8 cm of sepal length, 4.0 cm of sepal width, 1.2 cm of petal length and 0.2 cm of petal width is setosa\n",
            "15         The flower with 5.7 cm of sepal length, 4.4 cm of sepal width, 1.5 cm of petal length and 0.4 cm of petal width is setosa\n",
            "16         The flower with 5.4 cm of sepal length, 3.9 cm of sepal width, 1.3 cm of petal length and 0.4 cm of petal width is setosa\n",
            "17         The flower with 5.1 cm of sepal length, 3.5 cm of sepal width, 1.4 cm of petal length and 0.3 cm of petal width is setosa\n",
            "18         The flower with 5.7 cm of sepal length, 3.8 cm of sepal width, 1.7 cm of petal length and 0.3 cm of petal width is setosa\n",
            "19         The flower with 5.1 cm of sepal length, 3.8 cm of sepal width, 1.5 cm of petal length and 0.3 cm of petal width is setosa\n",
            "20         The flower with 5.4 cm of sepal length, 3.4 cm of sepal width, 1.7 cm of petal length and 0.2 cm of petal width is setosa\n",
            "21         The flower with 5.1 cm of sepal length, 3.7 cm of sepal width, 1.5 cm of petal length and 0.4 cm of petal width is setosa\n",
            "22         The flower with 4.6 cm of sepal length, 3.6 cm of sepal width, 1.0 cm of petal length and 0.2 cm of petal width is setosa\n",
            "23         The flower with 5.1 cm of sepal length, 3.3 cm of sepal width, 1.7 cm of petal length and 0.5 cm of petal width is setosa\n",
            "24         The flower with 4.8 cm of sepal length, 3.4 cm of sepal width, 1.9 cm of petal length and 0.2 cm of petal width is setosa\n",
            "25         The flower with 5.0 cm of sepal length, 3.0 cm of sepal width, 1.6 cm of petal length and 0.2 cm of petal width is setosa\n",
            "26         The flower with 5.0 cm of sepal length, 3.4 cm of sepal width, 1.6 cm of petal length and 0.4 cm of petal width is setosa\n",
            "27         The flower with 5.2 cm of sepal length, 3.5 cm of sepal width, 1.5 cm of petal length and 0.2 cm of petal width is setosa\n",
            "28         The flower with 5.2 cm of sepal length, 3.4 cm of sepal width, 1.4 cm of petal length and 0.2 cm of petal width is setosa\n",
            "29         The flower with 4.7 cm of sepal length, 3.2 cm of sepal width, 1.6 cm of petal length and 0.2 cm of petal width is setosa\n",
            "30         The flower with 4.8 cm of sepal length, 3.1 cm of sepal width, 1.6 cm of petal length and 0.2 cm of petal width is setosa\n",
            "31         The flower with 5.4 cm of sepal length, 3.4 cm of sepal width, 1.5 cm of petal length and 0.4 cm of petal width is setosa\n",
            "32         The flower with 5.2 cm of sepal length, 4.1 cm of sepal width, 1.5 cm of petal length and 0.1 cm of petal width is setosa\n",
            "33         The flower with 5.5 cm of sepal length, 4.2 cm of sepal width, 1.4 cm of petal length and 0.2 cm of petal width is setosa\n",
            "34         The flower with 4.9 cm of sepal length, 3.1 cm of sepal width, 1.5 cm of petal length and 0.2 cm of petal width is setosa\n",
            "35         The flower with 5.0 cm of sepal length, 3.2 cm of sepal width, 1.2 cm of petal length and 0.2 cm of petal width is setosa\n",
            "36         The flower with 5.5 cm of sepal length, 3.5 cm of sepal width, 1.3 cm of petal length and 0.2 cm of petal width is setosa\n",
            "37         The flower with 4.9 cm of sepal length, 3.6 cm of sepal width, 1.4 cm of petal length and 0.1 cm of petal width is setosa\n",
            "38         The flower with 4.4 cm of sepal length, 3.0 cm of sepal width, 1.3 cm of petal length and 0.2 cm of petal width is setosa\n",
            "39         The flower with 5.1 cm of sepal length, 3.4 cm of sepal width, 1.5 cm of petal length and 0.2 cm of petal width is setosa\n",
            "40         The flower with 5.0 cm of sepal length, 3.5 cm of sepal width, 1.3 cm of petal length and 0.3 cm of petal width is setosa\n",
            "41         The flower with 4.5 cm of sepal length, 2.3 cm of sepal width, 1.3 cm of petal length and 0.3 cm of petal width is setosa\n",
            "42         The flower with 4.4 cm of sepal length, 3.2 cm of sepal width, 1.3 cm of petal length and 0.2 cm of petal width is setosa\n",
            "43         The flower with 5.0 cm of sepal length, 3.5 cm of sepal width, 1.6 cm of petal length and 0.6 cm of petal width is setosa\n",
            "44         The flower with 5.1 cm of sepal length, 3.8 cm of sepal width, 1.9 cm of petal length and 0.4 cm of petal width is setosa\n",
            "45         The flower with 4.8 cm of sepal length, 3.0 cm of sepal width, 1.4 cm of petal length and 0.3 cm of petal width is setosa\n",
            "46         The flower with 5.1 cm of sepal length, 3.8 cm of sepal width, 1.6 cm of petal length and 0.2 cm of petal width is setosa\n",
            "47         The flower with 4.6 cm of sepal length, 3.2 cm of sepal width, 1.4 cm of petal length and 0.2 cm of petal width is setosa\n",
            "48         The flower with 5.3 cm of sepal length, 3.7 cm of sepal width, 1.5 cm of petal length and 0.2 cm of petal width is setosa\n",
            "49         The flower with 5.0 cm of sepal length, 3.3 cm of sepal width, 1.4 cm of petal length and 0.2 cm of petal width is setosa\n",
            "50     The flower with 7.0 cm of sepal length, 3.2 cm of sepal width, 4.7 cm of petal length and 1.4 cm of petal width is versicolor\n",
            "51     The flower with 6.4 cm of sepal length, 3.2 cm of sepal width, 4.5 cm of petal length and 1.5 cm of petal width is versicolor\n",
            "52     The flower with 6.9 cm of sepal length, 3.1 cm of sepal width, 4.9 cm of petal length and 1.5 cm of petal width is versicolor\n",
            "53     The flower with 5.5 cm of sepal length, 2.3 cm of sepal width, 4.0 cm of petal length and 1.3 cm of petal width is versicolor\n",
            "54     The flower with 6.5 cm of sepal length, 2.8 cm of sepal width, 4.6 cm of petal length and 1.5 cm of petal width is versicolor\n",
            "55     The flower with 5.7 cm of sepal length, 2.8 cm of sepal width, 4.5 cm of petal length and 1.3 cm of petal width is versicolor\n",
            "56     The flower with 6.3 cm of sepal length, 3.3 cm of sepal width, 4.7 cm of petal length and 1.6 cm of petal width is versicolor\n",
            "57     The flower with 4.9 cm of sepal length, 2.4 cm of sepal width, 3.3 cm of petal length and 1.0 cm of petal width is versicolor\n",
            "58     The flower with 6.6 cm of sepal length, 2.9 cm of sepal width, 4.6 cm of petal length and 1.3 cm of petal width is versicolor\n",
            "59     The flower with 5.2 cm of sepal length, 2.7 cm of sepal width, 3.9 cm of petal length and 1.4 cm of petal width is versicolor\n",
            "60     The flower with 5.0 cm of sepal length, 2.0 cm of sepal width, 3.5 cm of petal length and 1.0 cm of petal width is versicolor\n",
            "61     The flower with 5.9 cm of sepal length, 3.0 cm of sepal width, 4.2 cm of petal length and 1.5 cm of petal width is versicolor\n",
            "62     The flower with 6.0 cm of sepal length, 2.2 cm of sepal width, 4.0 cm of petal length and 1.0 cm of petal width is versicolor\n",
            "63     The flower with 6.1 cm of sepal length, 2.9 cm of sepal width, 4.7 cm of petal length and 1.4 cm of petal width is versicolor\n",
            "64     The flower with 5.6 cm of sepal length, 2.9 cm of sepal width, 3.6 cm of petal length and 1.3 cm of petal width is versicolor\n",
            "65     The flower with 6.7 cm of sepal length, 3.1 cm of sepal width, 4.4 cm of petal length and 1.4 cm of petal width is versicolor\n",
            "66     The flower with 5.6 cm of sepal length, 3.0 cm of sepal width, 4.5 cm of petal length and 1.5 cm of petal width is versicolor\n",
            "67     The flower with 5.8 cm of sepal length, 2.7 cm of sepal width, 4.1 cm of petal length and 1.0 cm of petal width is versicolor\n",
            "68     The flower with 6.2 cm of sepal length, 2.2 cm of sepal width, 4.5 cm of petal length and 1.5 cm of petal width is versicolor\n",
            "69     The flower with 5.6 cm of sepal length, 2.5 cm of sepal width, 3.9 cm of petal length and 1.1 cm of petal width is versicolor\n",
            "70     The flower with 5.9 cm of sepal length, 3.2 cm of sepal width, 4.8 cm of petal length and 1.8 cm of petal width is versicolor\n",
            "71     The flower with 6.1 cm of sepal length, 2.8 cm of sepal width, 4.0 cm of petal length and 1.3 cm of petal width is versicolor\n",
            "72     The flower with 6.3 cm of sepal length, 2.5 cm of sepal width, 4.9 cm of petal length and 1.5 cm of petal width is versicolor\n",
            "73     The flower with 6.1 cm of sepal length, 2.8 cm of sepal width, 4.7 cm of petal length and 1.2 cm of petal width is versicolor\n",
            "74     The flower with 6.4 cm of sepal length, 2.9 cm of sepal width, 4.3 cm of petal length and 1.3 cm of petal width is versicolor\n",
            "75     The flower with 6.6 cm of sepal length, 3.0 cm of sepal width, 4.4 cm of petal length and 1.4 cm of petal width is versicolor\n",
            "76     The flower with 6.8 cm of sepal length, 2.8 cm of sepal width, 4.8 cm of petal length and 1.4 cm of petal width is versicolor\n",
            "77     The flower with 6.7 cm of sepal length, 3.0 cm of sepal width, 5.0 cm of petal length and 1.7 cm of petal width is versicolor\n",
            "78     The flower with 6.0 cm of sepal length, 2.9 cm of sepal width, 4.5 cm of petal length and 1.5 cm of petal width is versicolor\n",
            "79     The flower with 5.7 cm of sepal length, 2.6 cm of sepal width, 3.5 cm of petal length and 1.0 cm of petal width is versicolor\n",
            "80     The flower with 5.5 cm of sepal length, 2.4 cm of sepal width, 3.8 cm of petal length and 1.1 cm of petal width is versicolor\n",
            "81     The flower with 5.5 cm of sepal length, 2.4 cm of sepal width, 3.7 cm of petal length and 1.0 cm of petal width is versicolor\n",
            "82     The flower with 5.8 cm of sepal length, 2.7 cm of sepal width, 3.9 cm of petal length and 1.2 cm of petal width is versicolor\n",
            "83     The flower with 6.0 cm of sepal length, 2.7 cm of sepal width, 5.1 cm of petal length and 1.6 cm of petal width is versicolor\n",
            "84     The flower with 5.4 cm of sepal length, 3.0 cm of sepal width, 4.5 cm of petal length and 1.5 cm of petal width is versicolor\n",
            "85     The flower with 6.0 cm of sepal length, 3.4 cm of sepal width, 4.5 cm of petal length and 1.6 cm of petal width is versicolor\n",
            "86     The flower with 6.7 cm of sepal length, 3.1 cm of sepal width, 4.7 cm of petal length and 1.5 cm of petal width is versicolor\n",
            "87     The flower with 6.3 cm of sepal length, 2.3 cm of sepal width, 4.4 cm of petal length and 1.3 cm of petal width is versicolor\n",
            "88     The flower with 5.6 cm of sepal length, 3.0 cm of sepal width, 4.1 cm of petal length and 1.3 cm of petal width is versicolor\n",
            "89     The flower with 5.5 cm of sepal length, 2.5 cm of sepal width, 4.0 cm of petal length and 1.3 cm of petal width is versicolor\n",
            "90     The flower with 5.5 cm of sepal length, 2.6 cm of sepal width, 4.4 cm of petal length and 1.2 cm of petal width is versicolor\n",
            "91     The flower with 6.1 cm of sepal length, 3.0 cm of sepal width, 4.6 cm of petal length and 1.4 cm of petal width is versicolor\n",
            "92     The flower with 5.8 cm of sepal length, 2.6 cm of sepal width, 4.0 cm of petal length and 1.2 cm of petal width is versicolor\n",
            "93     The flower with 5.0 cm of sepal length, 2.3 cm of sepal width, 3.3 cm of petal length and 1.0 cm of petal width is versicolor\n",
            "94     The flower with 5.6 cm of sepal length, 2.7 cm of sepal width, 4.2 cm of petal length and 1.3 cm of petal width is versicolor\n",
            "95     The flower with 5.7 cm of sepal length, 3.0 cm of sepal width, 4.2 cm of petal length and 1.2 cm of petal width is versicolor\n",
            "96     The flower with 5.7 cm of sepal length, 2.9 cm of sepal width, 4.2 cm of petal length and 1.3 cm of petal width is versicolor\n",
            "97     The flower with 6.2 cm of sepal length, 2.9 cm of sepal width, 4.3 cm of petal length and 1.3 cm of petal width is versicolor\n",
            "98     The flower with 5.1 cm of sepal length, 2.5 cm of sepal width, 3.0 cm of petal length and 1.1 cm of petal width is versicolor\n",
            "99     The flower with 5.7 cm of sepal length, 2.8 cm of sepal width, 4.1 cm of petal length and 1.3 cm of petal width is versicolor\n",
            "100     The flower with 6.3 cm of sepal length, 3.3 cm of sepal width, 6.0 cm of petal length and 2.5 cm of petal width is virginica\n",
            "101     The flower with 5.8 cm of sepal length, 2.7 cm of sepal width, 5.1 cm of petal length and 1.9 cm of petal width is virginica\n",
            "102     The flower with 7.1 cm of sepal length, 3.0 cm of sepal width, 5.9 cm of petal length and 2.1 cm of petal width is virginica\n",
            "103     The flower with 6.3 cm of sepal length, 2.9 cm of sepal width, 5.6 cm of petal length and 1.8 cm of petal width is virginica\n",
            "104     The flower with 6.5 cm of sepal length, 3.0 cm of sepal width, 5.8 cm of petal length and 2.2 cm of petal width is virginica\n",
            "105     The flower with 7.6 cm of sepal length, 3.0 cm of sepal width, 6.6 cm of petal length and 2.1 cm of petal width is virginica\n",
            "106     The flower with 4.9 cm of sepal length, 2.5 cm of sepal width, 4.5 cm of petal length and 1.7 cm of petal width is virginica\n",
            "107     The flower with 7.3 cm of sepal length, 2.9 cm of sepal width, 6.3 cm of petal length and 1.8 cm of petal width is virginica\n",
            "108     The flower with 6.7 cm of sepal length, 2.5 cm of sepal width, 5.8 cm of petal length and 1.8 cm of petal width is virginica\n",
            "109     The flower with 7.2 cm of sepal length, 3.6 cm of sepal width, 6.1 cm of petal length and 2.5 cm of petal width is virginica\n",
            "110     The flower with 6.5 cm of sepal length, 3.2 cm of sepal width, 5.1 cm of petal length and 2.0 cm of petal width is virginica\n",
            "111     The flower with 6.4 cm of sepal length, 2.7 cm of sepal width, 5.3 cm of petal length and 1.9 cm of petal width is virginica\n",
            "112     The flower with 6.8 cm of sepal length, 3.0 cm of sepal width, 5.5 cm of petal length and 2.1 cm of petal width is virginica\n",
            "113     The flower with 5.7 cm of sepal length, 2.5 cm of sepal width, 5.0 cm of petal length and 2.0 cm of petal width is virginica\n",
            "114     The flower with 5.8 cm of sepal length, 2.8 cm of sepal width, 5.1 cm of petal length and 2.4 cm of petal width is virginica\n",
            "115     The flower with 6.4 cm of sepal length, 3.2 cm of sepal width, 5.3 cm of petal length and 2.3 cm of petal width is virginica\n",
            "116     The flower with 6.5 cm of sepal length, 3.0 cm of sepal width, 5.5 cm of petal length and 1.8 cm of petal width is virginica\n",
            "117     The flower with 7.7 cm of sepal length, 3.8 cm of sepal width, 6.7 cm of petal length and 2.2 cm of petal width is virginica\n",
            "118     The flower with 7.7 cm of sepal length, 2.6 cm of sepal width, 6.9 cm of petal length and 2.3 cm of petal width is virginica\n",
            "119     The flower with 6.0 cm of sepal length, 2.2 cm of sepal width, 5.0 cm of petal length and 1.5 cm of petal width is virginica\n",
            "120     The flower with 6.9 cm of sepal length, 3.2 cm of sepal width, 5.7 cm of petal length and 2.3 cm of petal width is virginica\n",
            "121     The flower with 5.6 cm of sepal length, 2.8 cm of sepal width, 4.9 cm of petal length and 2.0 cm of petal width is virginica\n",
            "122     The flower with 7.7 cm of sepal length, 2.8 cm of sepal width, 6.7 cm of petal length and 2.0 cm of petal width is virginica\n",
            "123     The flower with 6.3 cm of sepal length, 2.7 cm of sepal width, 4.9 cm of petal length and 1.8 cm of petal width is virginica\n",
            "124     The flower with 6.7 cm of sepal length, 3.3 cm of sepal width, 5.7 cm of petal length and 2.1 cm of petal width is virginica\n",
            "125     The flower with 7.2 cm of sepal length, 3.2 cm of sepal width, 6.0 cm of petal length and 1.8 cm of petal width is virginica\n",
            "126     The flower with 6.2 cm of sepal length, 2.8 cm of sepal width, 4.8 cm of petal length and 1.8 cm of petal width is virginica\n",
            "127     The flower with 6.1 cm of sepal length, 3.0 cm of sepal width, 4.9 cm of petal length and 1.8 cm of petal width is virginica\n",
            "128     The flower with 6.4 cm of sepal length, 2.8 cm of sepal width, 5.6 cm of petal length and 2.1 cm of petal width is virginica\n",
            "129     The flower with 7.2 cm of sepal length, 3.0 cm of sepal width, 5.8 cm of petal length and 1.6 cm of petal width is virginica\n",
            "130     The flower with 7.4 cm of sepal length, 2.8 cm of sepal width, 6.1 cm of petal length and 1.9 cm of petal width is virginica\n",
            "131     The flower with 7.9 cm of sepal length, 3.8 cm of sepal width, 6.4 cm of petal length and 2.0 cm of petal width is virginica\n",
            "132     The flower with 6.4 cm of sepal length, 2.8 cm of sepal width, 5.6 cm of petal length and 2.2 cm of petal width is virginica\n",
            "133     The flower with 6.3 cm of sepal length, 2.8 cm of sepal width, 5.1 cm of petal length and 1.5 cm of petal width is virginica\n",
            "134     The flower with 6.1 cm of sepal length, 2.6 cm of sepal width, 5.6 cm of petal length and 1.4 cm of petal width is virginica\n",
            "135     The flower with 7.7 cm of sepal length, 3.0 cm of sepal width, 6.1 cm of petal length and 2.3 cm of petal width is virginica\n",
            "136     The flower with 6.3 cm of sepal length, 3.4 cm of sepal width, 5.6 cm of petal length and 2.4 cm of petal width is virginica\n",
            "137     The flower with 6.4 cm of sepal length, 3.1 cm of sepal width, 5.5 cm of petal length and 1.8 cm of petal width is virginica\n",
            "138     The flower with 6.0 cm of sepal length, 3.0 cm of sepal width, 4.8 cm of petal length and 1.8 cm of petal width is virginica\n",
            "139     The flower with 6.9 cm of sepal length, 3.1 cm of sepal width, 5.4 cm of petal length and 2.1 cm of petal width is virginica\n",
            "140     The flower with 6.7 cm of sepal length, 3.1 cm of sepal width, 5.6 cm of petal length and 2.4 cm of petal width is virginica\n",
            "141     The flower with 6.9 cm of sepal length, 3.1 cm of sepal width, 5.1 cm of petal length and 2.3 cm of petal width is virginica\n",
            "142     The flower with 5.8 cm of sepal length, 2.7 cm of sepal width, 5.1 cm of petal length and 1.9 cm of petal width is virginica\n",
            "143     The flower with 6.8 cm of sepal length, 3.2 cm of sepal width, 5.9 cm of petal length and 2.3 cm of petal width is virginica\n",
            "144     The flower with 6.7 cm of sepal length, 3.3 cm of sepal width, 5.7 cm of petal length and 2.5 cm of petal width is virginica\n",
            "145     The flower with 6.7 cm of sepal length, 3.0 cm of sepal width, 5.2 cm of petal length and 2.3 cm of petal width is virginica\n",
            "146     The flower with 6.3 cm of sepal length, 2.5 cm of sepal width, 5.0 cm of petal length and 1.9 cm of petal width is virginica\n",
            "147     The flower with 6.5 cm of sepal length, 3.0 cm of sepal width, 5.2 cm of petal length and 2.0 cm of petal width is virginica\n",
            "148     The flower with 6.2 cm of sepal length, 3.4 cm of sepal width, 5.4 cm of petal length and 2.3 cm of petal width is virginica\n",
            "149     The flower with 5.9 cm of sepal length, 3.0 cm of sepal width, 5.1 cm of petal length and 1.8 cm of petal width is virginica\n",
            "dtype: object\n"
          ]
        }
      ],
      "source": [
        "display_df(iris_text_df)"
      ]
    },
    {
      "cell_type": "code",
      "execution_count": 10,
      "metadata": {
        "id": "sAvwNapexeVx"
      },
      "outputs": [],
      "source": [
        "# Create torch dataset\n",
        "class Dataset(torch.utils.data.Dataset):\n",
        "    def __init__(self, encodings, labels=None):\n",
        "        self.encodings = encodings\n",
        "        self.labels = labels\n",
        "\n",
        "    def __getitem__(self, idx):\n",
        "        item = {key: torch.tensor(val[idx]) for key, val in self.encodings.items()}\n",
        "        if self.labels:\n",
        "            item[\"labels\"] = torch.tensor(self.labels[idx])\n",
        "        return item\n",
        "\n",
        "    def __len__(self):\n",
        "        return len(self.encodings[\"input_ids\"])"
      ]
    },
    {
      "cell_type": "code",
      "execution_count": 11,
      "metadata": {
        "id": "JW5NHbKJxeVy"
      },
      "outputs": [],
      "source": [
        "train_dataset = Dataset(X_train_tokenized, y_train)\n",
        "val_dataset = Dataset(X_val_tokenized, y_val)"
      ]
    },
    {
      "cell_type": "code",
      "execution_count": 12,
      "metadata": {
        "id": "ayztGhxWxeVy"
      },
      "outputs": [],
      "source": [
        "from sklearn import metrics\n",
        "\n",
        "def compute_metrics(p):\n",
        "    print(type(p))\n",
        "    pred, labels = p\n",
        "    pred = np.argmax(pred, axis=1)\n",
        "\n",
        "    accuracy = metrics.accuracy_score(y_true=labels, y_pred=pred)\n",
        "    recall = metrics.recall_score(y_true=labels, y_pred=pred, average='micro')\n",
        "    precision = metrics.precision_score(y_true=labels, y_pred=pred, average='micro')\n",
        "    f1 = metrics.f1_score(y_true=labels, y_pred=pred, average='micro')\n",
        "\n",
        "    return {\"accuracy\": accuracy, \"precision\": precision, \"recall\": recall, \"f1\": f1}"
      ]
    },
    {
      "cell_type": "markdown",
      "metadata": {
        "id": "5MCK6zoixeVz"
      },
      "source": [
        "#### Fine-tuning"
      ]
    },
    {
      "cell_type": "code",
      "execution_count": 13,
      "metadata": {
        "id": "K9CQ6a5_xeVz"
      },
      "outputs": [],
      "source": [
        "# Define Trainer\n",
        "args = TrainingArguments(\n",
        "    output_dir=\"output\",\n",
        "    num_train_epochs=1,\n",
        "    per_device_train_batch_size=8\n",
        "\n",
        ")\n",
        "trainer = Trainer(\n",
        "    model=model,\n",
        "    args=args,\n",
        "    train_dataset=train_dataset,\n",
        "    eval_dataset=val_dataset,\n",
        "    compute_metrics=compute_metrics\n",
        ")"
      ]
    },
    {
      "cell_type": "code",
      "execution_count": 14,
      "metadata": {
        "colab": {
          "base_uri": "https://localhost:8080/",
          "height": 145
        },
        "id": "qYRWZx3UxeV0",
        "outputId": "293be6f8-b1e7-4f76-eea8-7138782e0791"
      },
      "outputs": [
        {
          "data": {
            "text/html": [
              "\n",
              "    <div>\n",
              "      \n",
              "      <progress value='15' max='15' style='width:300px; height:20px; vertical-align: middle;'></progress>\n",
              "      [15/15 01:54, Epoch 1/1]\n",
              "    </div>\n",
              "    <table border=\"1\" class=\"dataframe\">\n",
              "  <thead>\n",
              " <tr style=\"text-align: left;\">\n",
              "      <th>Step</th>\n",
              "      <th>Training Loss</th>\n",
              "    </tr>\n",
              "  </thead>\n",
              "  <tbody>\n",
              "  </tbody>\n",
              "</table><p>"
            ],
            "text/plain": [
              "<IPython.core.display.HTML object>"
            ]
          },
          "metadata": {},
          "output_type": "display_data"
        },
        {
          "data": {
            "text/plain": [
              "TrainOutput(global_step=15, training_loss=1.0538679758707683, metrics={'train_runtime': 127.0202, 'train_samples_per_second': 0.945, 'train_steps_per_second': 0.118, 'total_flos': 2775024327600.0, 'train_loss': 1.0538679758707683, 'epoch': 1.0})"
            ]
          },
          "execution_count": 14,
          "metadata": {},
          "output_type": "execute_result"
        }
      ],
      "source": [
        "trainer.train()"
      ]
    },
    {
      "cell_type": "code",
      "execution_count": 15,
      "metadata": {
        "colab": {
          "base_uri": "https://localhost:8080/",
          "height": 211
        },
        "id": "beG_dH35xeV0",
        "outputId": "9418f538-b211-48ba-aad4-495a2f9477a0"
      },
      "outputs": [
        {
          "data": {
            "text/html": [
              "\n",
              "    <div>\n",
              "      \n",
              "      <progress value='4' max='4' style='width:300px; height:20px; vertical-align: middle;'></progress>\n",
              "      [4/4 00:03]\n",
              "    </div>\n",
              "    "
            ],
            "text/plain": [
              "<IPython.core.display.HTML object>"
            ]
          },
          "metadata": {},
          "output_type": "display_data"
        },
        {
          "name": "stdout",
          "output_type": "stream",
          "text": [
            "<class 'transformers.trainer_utils.EvalPrediction'>\n"
          ]
        },
        {
          "data": {
            "text/plain": [
              "{'eval_loss': 0.7977274060249329,\n",
              " 'eval_accuracy': 1.0,\n",
              " 'eval_precision': 1.0,\n",
              " 'eval_recall': 1.0,\n",
              " 'eval_f1': 1.0,\n",
              " 'eval_runtime': 4.4884,\n",
              " 'eval_samples_per_second': 6.684,\n",
              " 'eval_steps_per_second': 0.891,\n",
              " 'epoch': 1.0}"
            ]
          },
          "execution_count": 15,
          "metadata": {},
          "output_type": "execute_result"
        }
      ],
      "source": [
        "trainer.evaluate()"
      ]
    },
    {
      "cell_type": "code",
      "execution_count": 16,
      "metadata": {
        "id": "Oe5ScTimxeV1"
      },
      "outputs": [],
      "source": [
        "np.set_printoptions(suppress=True)"
      ]
    },
    {
      "cell_type": "markdown",
      "metadata": {
        "id": "HI8_phLW4Jlb"
      },
      "source": [
        "#### Tests"
      ]
    },
    {
      "cell_type": "code",
      "execution_count": 17,
      "metadata": {
        "id": "yB3RjQRfymvz"
      },
      "outputs": [],
      "source": [
        "def get_predictions(model, tokenizer, text) :\n",
        "  inputs = tokenizer(text, padding = True, truncation = True, return_tensors='pt') # .to('cuda')\n",
        "  outputs = model(**inputs)\n",
        "  predictions = torch.nn.functional.softmax(outputs.logits, dim=-1)\n",
        "  predictions = predictions.cpu().detach().numpy()\n",
        "  return predictions"
      ]
    },
    {
      "cell_type": "code",
      "execution_count": 18,
      "metadata": {
        "id": "cpI3YSOJGFL8"
      },
      "outputs": [],
      "source": [
        "def accuracy_predictions(X, y, model, tokenizer) :\n",
        "  cpt = 0\n",
        "  for text, label in zip(X, y) :\n",
        "    predictions = get_predictions(model, tokenizer, text)[0]\n",
        "    index_max = predictions.argmax()\n",
        "    if index_max == label :\n",
        "      cpt += 1\n",
        "  return cpt / len(y)"
      ]
    },
    {
      "cell_type": "code",
      "execution_count": 19,
      "metadata": {
        "colab": {
          "base_uri": "https://localhost:8080/"
        },
        "id": "xB4GTSpvxeV1",
        "outputId": "6d0c8cc2-fe16-4bfa-8fc5-ce455ce794f7"
      },
      "outputs": [
        {
          "name": "stdout",
          "output_type": "stream",
          "text": [
            "[[0.29870337 0.36094555 0.34035105]]\n",
            "[[0.29853427 0.36039737 0.34106833]]\n",
            "[[0.29880163 0.3596052  0.34159327]]\n"
          ]
        }
      ],
      "source": [
        "# First row, Expected : Setosa, Got : Setosa\n",
        "text = \"The flower with 5.1 cm of sepal length, 3.5 cm of sepal width, 1.4 cm of petal length and 0.2 cm of petal width\"\n",
        "print(get_predictions(model, tokenizer, text))\n",
        "\n",
        "# Row 51, Expected : Versicolor, Got : Setosa\n",
        "text = \"The flower with 7.0 cm of sepal length, 3.2 cm of sepal width, 4.7 cm of petal length and 1.4 cm of petal width\"\n",
        "print(get_predictions(model, tokenizer, text))\n",
        "\n",
        "# Row 101, Expected : Virginica, Got : Virginica\n",
        "text = \"The flower with 6.3 cm of sepal length, 3.3 cm of sepal width, 6.0 cm of petal length and 2.5 cm of petal width\"\n",
        "print(get_predictions(model, tokenizer, text))"
      ]
    },
    {
      "cell_type": "code",
      "execution_count": 20,
      "metadata": {
        "colab": {
          "base_uri": "https://localhost:8080/"
        },
        "id": "gQR7TfXl4oku",
        "outputId": "d5a1cca8-8bc6-4716-d6e1-79772b2174c0"
      },
      "outputs": [
        {
          "name": "stdout",
          "output_type": "stream",
          "text": [
            "[[0.41006058 0.2845194  0.30542   ]]\n",
            "[[0.29544485 0.37491223 0.32964292]]\n",
            "[[0.31339547 0.3141908  0.37241375]]\n"
          ]
        }
      ],
      "source": [
        "# Expected : Setosa, Got : Setosa\n",
        "text = \"setosa\"\n",
        "print(get_predictions(model, tokenizer, text))\n",
        "\n",
        "# Expected : Versicolor, Got : Versicolor\n",
        "text = \"versicolor\"\n",
        "print(get_predictions(model, tokenizer, text))\n",
        "\n",
        "# Expected : Virginica, Got : Virginica\n",
        "text = \"virginica\"\n",
        "print(get_predictions(model, tokenizer, text))"
      ]
    },
    {
      "cell_type": "code",
      "execution_count": 21,
      "metadata": {
        "colab": {
          "base_uri": "https://localhost:8080/"
        },
        "id": "eq5DK9SoHkQj",
        "outputId": "8fb0d91b-4224-4197-f368-e12428ca858a"
      },
      "outputs": [
        {
          "data": {
            "text/plain": [
              "0.3333333333333333"
            ]
          },
          "execution_count": 21,
          "metadata": {},
          "output_type": "execute_result"
        }
      ],
      "source": [
        "iris_text_df = data_to_df_text(iris, subject_name=\"flower\", has_unit=True, select=1)\n",
        "X = list(iris_text_df)\n",
        "y = list(iris['target'])\n",
        "\n",
        "accuracy_predictions(X, y, model, tokenizer)"
      ]
    },
    {
      "cell_type": "markdown",
      "metadata": {
        "id": "yKX1kzqa4SPl"
      },
      "source": [
        "#### Sauvegarde du modèle"
      ]
    },
    {
      "cell_type": "code",
      "execution_count": null,
      "metadata": {
        "id": "mBBjPW1mxeV2"
      },
      "outputs": [],
      "source": [
        "save_path=\"./fine-tuned-bert-iris\"\n",
        "trainer.save_model(save_path)"
      ]
    },
    {
      "cell_type": "markdown",
      "metadata": {
        "id": "HMXTL2U94W_5"
      },
      "source": [
        "#### Chargement du modèle"
      ]
    },
    {
      "cell_type": "code",
      "execution_count": null,
      "metadata": {
        "id": "mN-JCdkDxeV2"
      },
      "outputs": [],
      "source": [
        "save_path=\"./fine-tuned-bert-iris\"\n",
        "model_2 = BertForSequenceClassification.from_pretrained(save_path)"
      ]
    },
    {
      "cell_type": "code",
      "execution_count": null,
      "metadata": {
        "colab": {
          "base_uri": "https://localhost:8080/"
        },
        "id": "KI646pZmxeV2",
        "outputId": "b396444c-0b69-482b-cf0b-94ca41bd3a03"
      },
      "outputs": [
        {
          "data": {
            "text/plain": [
              "array([[0.7248513 , 0.09858475, 0.17656392]], dtype=float32)"
            ]
          },
          "execution_count": 57,
          "metadata": {},
          "output_type": "execute_result"
        }
      ],
      "source": [
        "text = \"The flower with 5.1 cm of sepal length, 3.5 cm of sepal width, 1.4 cm of petal length and 0.2 cm of petal width is a\"\n",
        "get_predictions(model_2, tokenizer, text)"
      ]
    }
  ],
  "metadata": {
    "colab": {
      "provenance": [],
      "toc_visible": true
    },
    "kernelspec": {
      "display_name": "Python 3",
      "language": "python",
      "name": "python3"
    },
    "language_info": {
      "codemirror_mode": {
        "name": "ipython",
        "version": 3
      },
      "file_extension": ".py",
      "mimetype": "text/x-python",
      "name": "python",
      "nbconvert_exporter": "python",
      "pygments_lexer": "ipython3",
      "version": "3.9.3"
    },
    "widgets": {
      "application/vnd.jupyter.widget-state+json": {
        "05053ed6dc2047ea8bc0ef6661b1ef4a": {
          "model_module": "@jupyter-widgets/controls",
          "model_module_version": "1.5.0",
          "model_name": "HBoxModel",
          "state": {
            "_dom_classes": [],
            "_model_module": "@jupyter-widgets/controls",
            "_model_module_version": "1.5.0",
            "_model_name": "HBoxModel",
            "_view_count": null,
            "_view_module": "@jupyter-widgets/controls",
            "_view_module_version": "1.5.0",
            "_view_name": "HBoxView",
            "box_style": "",
            "children": [
              "IPY_MODEL_ab57fec47f934759b128866cc25c8eb7",
              "IPY_MODEL_8230885a0a7e4f529f8718dae3f1e2e0",
              "IPY_MODEL_59ca0821cd314f0e8da0a48949d1cb77"
            ],
            "layout": "IPY_MODEL_6428edc4315e406bb9171b498d9e0b40"
          }
        },
        "0527508bd86040be8f590daeb4ca53d2": {
          "model_module": "@jupyter-widgets/controls",
          "model_module_version": "1.5.0",
          "model_name": "HTMLModel",
          "state": {
            "_dom_classes": [],
            "_model_module": "@jupyter-widgets/controls",
            "_model_module_version": "1.5.0",
            "_model_name": "HTMLModel",
            "_view_count": null,
            "_view_module": "@jupyter-widgets/controls",
            "_view_module_version": "1.5.0",
            "_view_name": "HTMLView",
            "description": "",
            "description_tooltip": null,
            "layout": "IPY_MODEL_5d35c4c944c343da8044d659b3d421d9",
            "placeholder": "​",
            "style": "IPY_MODEL_bd59ca30616343d2b22071757f147cd9",
            "value": "generation_config.json: 100%"
          }
        },
        "0a470824ecff4964b4c4b502c468863b": {
          "model_module": "@jupyter-widgets/base",
          "model_module_version": "1.2.0",
          "model_name": "LayoutModel",
          "state": {
            "_model_module": "@jupyter-widgets/base",
            "_model_module_version": "1.2.0",
            "_model_name": "LayoutModel",
            "_view_count": null,
            "_view_module": "@jupyter-widgets/base",
            "_view_module_version": "1.2.0",
            "_view_name": "LayoutView",
            "align_content": null,
            "align_items": null,
            "align_self": null,
            "border": null,
            "bottom": null,
            "display": null,
            "flex": null,
            "flex_flow": null,
            "grid_area": null,
            "grid_auto_columns": null,
            "grid_auto_flow": null,
            "grid_auto_rows": null,
            "grid_column": null,
            "grid_gap": null,
            "grid_row": null,
            "grid_template_areas": null,
            "grid_template_columns": null,
            "grid_template_rows": null,
            "height": null,
            "justify_content": null,
            "justify_items": null,
            "left": null,
            "margin": null,
            "max_height": null,
            "max_width": null,
            "min_height": null,
            "min_width": null,
            "object_fit": null,
            "object_position": null,
            "order": null,
            "overflow": null,
            "overflow_x": null,
            "overflow_y": null,
            "padding": null,
            "right": null,
            "top": null,
            "visibility": null,
            "width": null
          }
        },
        "1077d185eb07447792e54c89e3829afd": {
          "model_module": "@jupyter-widgets/controls",
          "model_module_version": "1.5.0",
          "model_name": "FloatProgressModel",
          "state": {
            "_dom_classes": [],
            "_model_module": "@jupyter-widgets/controls",
            "_model_module_version": "1.5.0",
            "_model_name": "FloatProgressModel",
            "_view_count": null,
            "_view_module": "@jupyter-widgets/controls",
            "_view_module_version": "1.5.0",
            "_view_name": "ProgressView",
            "bar_style": "success",
            "description": "",
            "description_tooltip": null,
            "layout": "IPY_MODEL_74f76f644f43449a88b6de443153301d",
            "max": 548105171,
            "min": 0,
            "orientation": "horizontal",
            "style": "IPY_MODEL_490e948bccdc40babe800b646b92847e",
            "value": 548105171
          }
        },
        "1aa0e2f4e9c048b1b5e23a28ce5ac4f1": {
          "model_module": "@jupyter-widgets/controls",
          "model_module_version": "1.5.0",
          "model_name": "ProgressStyleModel",
          "state": {
            "_model_module": "@jupyter-widgets/controls",
            "_model_module_version": "1.5.0",
            "_model_name": "ProgressStyleModel",
            "_view_count": null,
            "_view_module": "@jupyter-widgets/base",
            "_view_module_version": "1.2.0",
            "_view_name": "StyleView",
            "bar_color": null,
            "description_width": ""
          }
        },
        "1bf7c9ed2325476c9e8125ed522c2bb7": {
          "model_module": "@jupyter-widgets/base",
          "model_module_version": "1.2.0",
          "model_name": "LayoutModel",
          "state": {
            "_model_module": "@jupyter-widgets/base",
            "_model_module_version": "1.2.0",
            "_model_name": "LayoutModel",
            "_view_count": null,
            "_view_module": "@jupyter-widgets/base",
            "_view_module_version": "1.2.0",
            "_view_name": "LayoutView",
            "align_content": null,
            "align_items": null,
            "align_self": null,
            "border": null,
            "bottom": null,
            "display": null,
            "flex": null,
            "flex_flow": null,
            "grid_area": null,
            "grid_auto_columns": null,
            "grid_auto_flow": null,
            "grid_auto_rows": null,
            "grid_column": null,
            "grid_gap": null,
            "grid_row": null,
            "grid_template_areas": null,
            "grid_template_columns": null,
            "grid_template_rows": null,
            "height": null,
            "justify_content": null,
            "justify_items": null,
            "left": null,
            "margin": null,
            "max_height": null,
            "max_width": null,
            "min_height": null,
            "min_width": null,
            "object_fit": null,
            "object_position": null,
            "order": null,
            "overflow": null,
            "overflow_x": null,
            "overflow_y": null,
            "padding": null,
            "right": null,
            "top": null,
            "visibility": null,
            "width": null
          }
        },
        "2019e71139404d95bc6e86f5d26dff0b": {
          "model_module": "@jupyter-widgets/base",
          "model_module_version": "1.2.0",
          "model_name": "LayoutModel",
          "state": {
            "_model_module": "@jupyter-widgets/base",
            "_model_module_version": "1.2.0",
            "_model_name": "LayoutModel",
            "_view_count": null,
            "_view_module": "@jupyter-widgets/base",
            "_view_module_version": "1.2.0",
            "_view_name": "LayoutView",
            "align_content": null,
            "align_items": null,
            "align_self": null,
            "border": null,
            "bottom": null,
            "display": null,
            "flex": null,
            "flex_flow": null,
            "grid_area": null,
            "grid_auto_columns": null,
            "grid_auto_flow": null,
            "grid_auto_rows": null,
            "grid_column": null,
            "grid_gap": null,
            "grid_row": null,
            "grid_template_areas": null,
            "grid_template_columns": null,
            "grid_template_rows": null,
            "height": null,
            "justify_content": null,
            "justify_items": null,
            "left": null,
            "margin": null,
            "max_height": null,
            "max_width": null,
            "min_height": null,
            "min_width": null,
            "object_fit": null,
            "object_position": null,
            "order": null,
            "overflow": null,
            "overflow_x": null,
            "overflow_y": null,
            "padding": null,
            "right": null,
            "top": null,
            "visibility": null,
            "width": null
          }
        },
        "2394515a7f9f406895bbc8d39b95d4f0": {
          "model_module": "@jupyter-widgets/base",
          "model_module_version": "1.2.0",
          "model_name": "LayoutModel",
          "state": {
            "_model_module": "@jupyter-widgets/base",
            "_model_module_version": "1.2.0",
            "_model_name": "LayoutModel",
            "_view_count": null,
            "_view_module": "@jupyter-widgets/base",
            "_view_module_version": "1.2.0",
            "_view_name": "LayoutView",
            "align_content": null,
            "align_items": null,
            "align_self": null,
            "border": null,
            "bottom": null,
            "display": null,
            "flex": null,
            "flex_flow": null,
            "grid_area": null,
            "grid_auto_columns": null,
            "grid_auto_flow": null,
            "grid_auto_rows": null,
            "grid_column": null,
            "grid_gap": null,
            "grid_row": null,
            "grid_template_areas": null,
            "grid_template_columns": null,
            "grid_template_rows": null,
            "height": null,
            "justify_content": null,
            "justify_items": null,
            "left": null,
            "margin": null,
            "max_height": null,
            "max_width": null,
            "min_height": null,
            "min_width": null,
            "object_fit": null,
            "object_position": null,
            "order": null,
            "overflow": null,
            "overflow_x": null,
            "overflow_y": null,
            "padding": null,
            "right": null,
            "top": null,
            "visibility": null,
            "width": null
          }
        },
        "28c6ee991fc546928f471e1e332b9916": {
          "model_module": "@jupyter-widgets/controls",
          "model_module_version": "1.5.0",
          "model_name": "DescriptionStyleModel",
          "state": {
            "_model_module": "@jupyter-widgets/controls",
            "_model_module_version": "1.5.0",
            "_model_name": "DescriptionStyleModel",
            "_view_count": null,
            "_view_module": "@jupyter-widgets/base",
            "_view_module_version": "1.2.0",
            "_view_name": "StyleView",
            "description_width": ""
          }
        },
        "33b7271a355d402ea7f01816acc859c7": {
          "model_module": "@jupyter-widgets/base",
          "model_module_version": "1.2.0",
          "model_name": "LayoutModel",
          "state": {
            "_model_module": "@jupyter-widgets/base",
            "_model_module_version": "1.2.0",
            "_model_name": "LayoutModel",
            "_view_count": null,
            "_view_module": "@jupyter-widgets/base",
            "_view_module_version": "1.2.0",
            "_view_name": "LayoutView",
            "align_content": null,
            "align_items": null,
            "align_self": null,
            "border": null,
            "bottom": null,
            "display": null,
            "flex": null,
            "flex_flow": null,
            "grid_area": null,
            "grid_auto_columns": null,
            "grid_auto_flow": null,
            "grid_auto_rows": null,
            "grid_column": null,
            "grid_gap": null,
            "grid_row": null,
            "grid_template_areas": null,
            "grid_template_columns": null,
            "grid_template_rows": null,
            "height": null,
            "justify_content": null,
            "justify_items": null,
            "left": null,
            "margin": null,
            "max_height": null,
            "max_width": null,
            "min_height": null,
            "min_width": null,
            "object_fit": null,
            "object_position": null,
            "order": null,
            "overflow": null,
            "overflow_x": null,
            "overflow_y": null,
            "padding": null,
            "right": null,
            "top": null,
            "visibility": null,
            "width": null
          }
        },
        "360c55617b6247b19cd08086040e9217": {
          "model_module": "@jupyter-widgets/controls",
          "model_module_version": "1.5.0",
          "model_name": "HTMLModel",
          "state": {
            "_dom_classes": [],
            "_model_module": "@jupyter-widgets/controls",
            "_model_module_version": "1.5.0",
            "_model_name": "HTMLModel",
            "_view_count": null,
            "_view_module": "@jupyter-widgets/controls",
            "_view_module_version": "1.5.0",
            "_view_name": "HTMLView",
            "description": "",
            "description_tooltip": null,
            "layout": "IPY_MODEL_a05d7d03586c4b5a838744169a63673a",
            "placeholder": "​",
            "style": "IPY_MODEL_28c6ee991fc546928f471e1e332b9916",
            "value": " 1.04M/1.04M [00:00&lt;00:00, 3.94MB/s]"
          }
        },
        "36feed5bc9364379a26f770d9e8aeaa0": {
          "model_module": "@jupyter-widgets/controls",
          "model_module_version": "1.5.0",
          "model_name": "FloatProgressModel",
          "state": {
            "_dom_classes": [],
            "_model_module": "@jupyter-widgets/controls",
            "_model_module_version": "1.5.0",
            "_model_name": "FloatProgressModel",
            "_view_count": null,
            "_view_module": "@jupyter-widgets/controls",
            "_view_module_version": "1.5.0",
            "_view_name": "ProgressView",
            "bar_style": "success",
            "description": "",
            "description_tooltip": null,
            "layout": "IPY_MODEL_2394515a7f9f406895bbc8d39b95d4f0",
            "max": 1042301,
            "min": 0,
            "orientation": "horizontal",
            "style": "IPY_MODEL_83e11f7ff2674ac4b588f41d259dc3ac",
            "value": 1042301
          }
        },
        "37387afdec24441d9ee97545cd23b458": {
          "model_module": "@jupyter-widgets/base",
          "model_module_version": "1.2.0",
          "model_name": "LayoutModel",
          "state": {
            "_model_module": "@jupyter-widgets/base",
            "_model_module_version": "1.2.0",
            "_model_name": "LayoutModel",
            "_view_count": null,
            "_view_module": "@jupyter-widgets/base",
            "_view_module_version": "1.2.0",
            "_view_name": "LayoutView",
            "align_content": null,
            "align_items": null,
            "align_self": null,
            "border": null,
            "bottom": null,
            "display": null,
            "flex": null,
            "flex_flow": null,
            "grid_area": null,
            "grid_auto_columns": null,
            "grid_auto_flow": null,
            "grid_auto_rows": null,
            "grid_column": null,
            "grid_gap": null,
            "grid_row": null,
            "grid_template_areas": null,
            "grid_template_columns": null,
            "grid_template_rows": null,
            "height": null,
            "justify_content": null,
            "justify_items": null,
            "left": null,
            "margin": null,
            "max_height": null,
            "max_width": null,
            "min_height": null,
            "min_width": null,
            "object_fit": null,
            "object_position": null,
            "order": null,
            "overflow": null,
            "overflow_x": null,
            "overflow_y": null,
            "padding": null,
            "right": null,
            "top": null,
            "visibility": null,
            "width": null
          }
        },
        "3e1800e778444a03b0af819fb3e105b9": {
          "model_module": "@jupyter-widgets/controls",
          "model_module_version": "1.5.0",
          "model_name": "DescriptionStyleModel",
          "state": {
            "_model_module": "@jupyter-widgets/controls",
            "_model_module_version": "1.5.0",
            "_model_name": "DescriptionStyleModel",
            "_view_count": null,
            "_view_module": "@jupyter-widgets/base",
            "_view_module_version": "1.2.0",
            "_view_name": "StyleView",
            "description_width": ""
          }
        },
        "46c34b20b04c4e889cf332e03e15ef45": {
          "model_module": "@jupyter-widgets/base",
          "model_module_version": "1.2.0",
          "model_name": "LayoutModel",
          "state": {
            "_model_module": "@jupyter-widgets/base",
            "_model_module_version": "1.2.0",
            "_model_name": "LayoutModel",
            "_view_count": null,
            "_view_module": "@jupyter-widgets/base",
            "_view_module_version": "1.2.0",
            "_view_name": "LayoutView",
            "align_content": null,
            "align_items": null,
            "align_self": null,
            "border": null,
            "bottom": null,
            "display": null,
            "flex": null,
            "flex_flow": null,
            "grid_area": null,
            "grid_auto_columns": null,
            "grid_auto_flow": null,
            "grid_auto_rows": null,
            "grid_column": null,
            "grid_gap": null,
            "grid_row": null,
            "grid_template_areas": null,
            "grid_template_columns": null,
            "grid_template_rows": null,
            "height": null,
            "justify_content": null,
            "justify_items": null,
            "left": null,
            "margin": null,
            "max_height": null,
            "max_width": null,
            "min_height": null,
            "min_width": null,
            "object_fit": null,
            "object_position": null,
            "order": null,
            "overflow": null,
            "overflow_x": null,
            "overflow_y": null,
            "padding": null,
            "right": null,
            "top": null,
            "visibility": null,
            "width": null
          }
        },
        "489f10b22fc047d3b68b6aabe55e5284": {
          "model_module": "@jupyter-widgets/controls",
          "model_module_version": "1.5.0",
          "model_name": "HTMLModel",
          "state": {
            "_dom_classes": [],
            "_model_module": "@jupyter-widgets/controls",
            "_model_module_version": "1.5.0",
            "_model_name": "HTMLModel",
            "_view_count": null,
            "_view_module": "@jupyter-widgets/controls",
            "_view_module_version": "1.5.0",
            "_view_name": "HTMLView",
            "description": "",
            "description_tooltip": null,
            "layout": "IPY_MODEL_d5e48505a8bb4fa08dbaec195aacc972",
            "placeholder": "​",
            "style": "IPY_MODEL_82b8d927c06b41d9b1a4fb82d3a791e3",
            "value": " 124/124 [00:00&lt;00:00, 4.54kB/s]"
          }
        },
        "490e948bccdc40babe800b646b92847e": {
          "model_module": "@jupyter-widgets/controls",
          "model_module_version": "1.5.0",
          "model_name": "ProgressStyleModel",
          "state": {
            "_model_module": "@jupyter-widgets/controls",
            "_model_module_version": "1.5.0",
            "_model_name": "ProgressStyleModel",
            "_view_count": null,
            "_view_module": "@jupyter-widgets/base",
            "_view_module_version": "1.2.0",
            "_view_name": "StyleView",
            "bar_color": null,
            "description_width": ""
          }
        },
        "4ea4b092c983446c942eebd81e927179": {
          "model_module": "@jupyter-widgets/controls",
          "model_module_version": "1.5.0",
          "model_name": "HTMLModel",
          "state": {
            "_dom_classes": [],
            "_model_module": "@jupyter-widgets/controls",
            "_model_module_version": "1.5.0",
            "_model_name": "HTMLModel",
            "_view_count": null,
            "_view_module": "@jupyter-widgets/controls",
            "_view_module_version": "1.5.0",
            "_view_name": "HTMLView",
            "description": "",
            "description_tooltip": null,
            "layout": "IPY_MODEL_37387afdec24441d9ee97545cd23b458",
            "placeholder": "​",
            "style": "IPY_MODEL_8ee80429a0184dc4b0db62af9e29ebb3",
            "value": "model.safetensors: 100%"
          }
        },
        "54b79544cbe1401da73bed344f670288": {
          "model_module": "@jupyter-widgets/controls",
          "model_module_version": "1.5.0",
          "model_name": "DescriptionStyleModel",
          "state": {
            "_model_module": "@jupyter-widgets/controls",
            "_model_module_version": "1.5.0",
            "_model_name": "DescriptionStyleModel",
            "_view_count": null,
            "_view_module": "@jupyter-widgets/base",
            "_view_module_version": "1.2.0",
            "_view_name": "StyleView",
            "description_width": ""
          }
        },
        "565443a933cc4fa8838ef4989bc30312": {
          "model_module": "@jupyter-widgets/base",
          "model_module_version": "1.2.0",
          "model_name": "LayoutModel",
          "state": {
            "_model_module": "@jupyter-widgets/base",
            "_model_module_version": "1.2.0",
            "_model_name": "LayoutModel",
            "_view_count": null,
            "_view_module": "@jupyter-widgets/base",
            "_view_module_version": "1.2.0",
            "_view_name": "LayoutView",
            "align_content": null,
            "align_items": null,
            "align_self": null,
            "border": null,
            "bottom": null,
            "display": null,
            "flex": null,
            "flex_flow": null,
            "grid_area": null,
            "grid_auto_columns": null,
            "grid_auto_flow": null,
            "grid_auto_rows": null,
            "grid_column": null,
            "grid_gap": null,
            "grid_row": null,
            "grid_template_areas": null,
            "grid_template_columns": null,
            "grid_template_rows": null,
            "height": null,
            "justify_content": null,
            "justify_items": null,
            "left": null,
            "margin": null,
            "max_height": null,
            "max_width": null,
            "min_height": null,
            "min_width": null,
            "object_fit": null,
            "object_position": null,
            "order": null,
            "overflow": null,
            "overflow_x": null,
            "overflow_y": null,
            "padding": null,
            "right": null,
            "top": null,
            "visibility": null,
            "width": null
          }
        },
        "59ca0821cd314f0e8da0a48949d1cb77": {
          "model_module": "@jupyter-widgets/controls",
          "model_module_version": "1.5.0",
          "model_name": "HTMLModel",
          "state": {
            "_dom_classes": [],
            "_model_module": "@jupyter-widgets/controls",
            "_model_module_version": "1.5.0",
            "_model_name": "HTMLModel",
            "_view_count": null,
            "_view_module": "@jupyter-widgets/controls",
            "_view_module_version": "1.5.0",
            "_view_name": "HTMLView",
            "description": "",
            "description_tooltip": null,
            "layout": "IPY_MODEL_6832e00fe5a04ae5b1e4bb680fcae4f8",
            "placeholder": "​",
            "style": "IPY_MODEL_87b0bcedfa8e40708724934b29cbcddc",
            "value": " 26.0/26.0 [00:00&lt;00:00, 926B/s]"
          }
        },
        "5d35c4c944c343da8044d659b3d421d9": {
          "model_module": "@jupyter-widgets/base",
          "model_module_version": "1.2.0",
          "model_name": "LayoutModel",
          "state": {
            "_model_module": "@jupyter-widgets/base",
            "_model_module_version": "1.2.0",
            "_model_name": "LayoutModel",
            "_view_count": null,
            "_view_module": "@jupyter-widgets/base",
            "_view_module_version": "1.2.0",
            "_view_name": "LayoutView",
            "align_content": null,
            "align_items": null,
            "align_self": null,
            "border": null,
            "bottom": null,
            "display": null,
            "flex": null,
            "flex_flow": null,
            "grid_area": null,
            "grid_auto_columns": null,
            "grid_auto_flow": null,
            "grid_auto_rows": null,
            "grid_column": null,
            "grid_gap": null,
            "grid_row": null,
            "grid_template_areas": null,
            "grid_template_columns": null,
            "grid_template_rows": null,
            "height": null,
            "justify_content": null,
            "justify_items": null,
            "left": null,
            "margin": null,
            "max_height": null,
            "max_width": null,
            "min_height": null,
            "min_width": null,
            "object_fit": null,
            "object_position": null,
            "order": null,
            "overflow": null,
            "overflow_x": null,
            "overflow_y": null,
            "padding": null,
            "right": null,
            "top": null,
            "visibility": null,
            "width": null
          }
        },
        "6428edc4315e406bb9171b498d9e0b40": {
          "model_module": "@jupyter-widgets/base",
          "model_module_version": "1.2.0",
          "model_name": "LayoutModel",
          "state": {
            "_model_module": "@jupyter-widgets/base",
            "_model_module_version": "1.2.0",
            "_model_name": "LayoutModel",
            "_view_count": null,
            "_view_module": "@jupyter-widgets/base",
            "_view_module_version": "1.2.0",
            "_view_name": "LayoutView",
            "align_content": null,
            "align_items": null,
            "align_self": null,
            "border": null,
            "bottom": null,
            "display": null,
            "flex": null,
            "flex_flow": null,
            "grid_area": null,
            "grid_auto_columns": null,
            "grid_auto_flow": null,
            "grid_auto_rows": null,
            "grid_column": null,
            "grid_gap": null,
            "grid_row": null,
            "grid_template_areas": null,
            "grid_template_columns": null,
            "grid_template_rows": null,
            "height": null,
            "justify_content": null,
            "justify_items": null,
            "left": null,
            "margin": null,
            "max_height": null,
            "max_width": null,
            "min_height": null,
            "min_width": null,
            "object_fit": null,
            "object_position": null,
            "order": null,
            "overflow": null,
            "overflow_x": null,
            "overflow_y": null,
            "padding": null,
            "right": null,
            "top": null,
            "visibility": null,
            "width": null
          }
        },
        "66aa86f9a92e4250bbe640040d2037ea": {
          "model_module": "@jupyter-widgets/controls",
          "model_module_version": "1.5.0",
          "model_name": "FloatProgressModel",
          "state": {
            "_dom_classes": [],
            "_model_module": "@jupyter-widgets/controls",
            "_model_module_version": "1.5.0",
            "_model_name": "FloatProgressModel",
            "_view_count": null,
            "_view_module": "@jupyter-widgets/controls",
            "_view_module_version": "1.5.0",
            "_view_name": "ProgressView",
            "bar_style": "success",
            "description": "",
            "description_tooltip": null,
            "layout": "IPY_MODEL_9ed71f1521e34c4495e55568b83e4570",
            "max": 456318,
            "min": 0,
            "orientation": "horizontal",
            "style": "IPY_MODEL_87c614c2d7614333b0845bf373918249",
            "value": 456318
          }
        },
        "6832e00fe5a04ae5b1e4bb680fcae4f8": {
          "model_module": "@jupyter-widgets/base",
          "model_module_version": "1.2.0",
          "model_name": "LayoutModel",
          "state": {
            "_model_module": "@jupyter-widgets/base",
            "_model_module_version": "1.2.0",
            "_model_name": "LayoutModel",
            "_view_count": null,
            "_view_module": "@jupyter-widgets/base",
            "_view_module_version": "1.2.0",
            "_view_name": "LayoutView",
            "align_content": null,
            "align_items": null,
            "align_self": null,
            "border": null,
            "bottom": null,
            "display": null,
            "flex": null,
            "flex_flow": null,
            "grid_area": null,
            "grid_auto_columns": null,
            "grid_auto_flow": null,
            "grid_auto_rows": null,
            "grid_column": null,
            "grid_gap": null,
            "grid_row": null,
            "grid_template_areas": null,
            "grid_template_columns": null,
            "grid_template_rows": null,
            "height": null,
            "justify_content": null,
            "justify_items": null,
            "left": null,
            "margin": null,
            "max_height": null,
            "max_width": null,
            "min_height": null,
            "min_width": null,
            "object_fit": null,
            "object_position": null,
            "order": null,
            "overflow": null,
            "overflow_x": null,
            "overflow_y": null,
            "padding": null,
            "right": null,
            "top": null,
            "visibility": null,
            "width": null
          }
        },
        "6d4390cf2e01422291a05098402b7e47": {
          "model_module": "@jupyter-widgets/base",
          "model_module_version": "1.2.0",
          "model_name": "LayoutModel",
          "state": {
            "_model_module": "@jupyter-widgets/base",
            "_model_module_version": "1.2.0",
            "_model_name": "LayoutModel",
            "_view_count": null,
            "_view_module": "@jupyter-widgets/base",
            "_view_module_version": "1.2.0",
            "_view_name": "LayoutView",
            "align_content": null,
            "align_items": null,
            "align_self": null,
            "border": null,
            "bottom": null,
            "display": null,
            "flex": null,
            "flex_flow": null,
            "grid_area": null,
            "grid_auto_columns": null,
            "grid_auto_flow": null,
            "grid_auto_rows": null,
            "grid_column": null,
            "grid_gap": null,
            "grid_row": null,
            "grid_template_areas": null,
            "grid_template_columns": null,
            "grid_template_rows": null,
            "height": null,
            "justify_content": null,
            "justify_items": null,
            "left": null,
            "margin": null,
            "max_height": null,
            "max_width": null,
            "min_height": null,
            "min_width": null,
            "object_fit": null,
            "object_position": null,
            "order": null,
            "overflow": null,
            "overflow_x": null,
            "overflow_y": null,
            "padding": null,
            "right": null,
            "top": null,
            "visibility": null,
            "width": null
          }
        },
        "6fb03a956e60402a90d97ce5c0c1e8f5": {
          "model_module": "@jupyter-widgets/controls",
          "model_module_version": "1.5.0",
          "model_name": "DescriptionStyleModel",
          "state": {
            "_model_module": "@jupyter-widgets/controls",
            "_model_module_version": "1.5.0",
            "_model_name": "DescriptionStyleModel",
            "_view_count": null,
            "_view_module": "@jupyter-widgets/base",
            "_view_module_version": "1.2.0",
            "_view_name": "StyleView",
            "description_width": ""
          }
        },
        "7185cb6cf68243e7828d8d53d010d597": {
          "model_module": "@jupyter-widgets/controls",
          "model_module_version": "1.5.0",
          "model_name": "ProgressStyleModel",
          "state": {
            "_model_module": "@jupyter-widgets/controls",
            "_model_module_version": "1.5.0",
            "_model_name": "ProgressStyleModel",
            "_view_count": null,
            "_view_module": "@jupyter-widgets/base",
            "_view_module_version": "1.2.0",
            "_view_name": "StyleView",
            "bar_color": null,
            "description_width": ""
          }
        },
        "74f76f644f43449a88b6de443153301d": {
          "model_module": "@jupyter-widgets/base",
          "model_module_version": "1.2.0",
          "model_name": "LayoutModel",
          "state": {
            "_model_module": "@jupyter-widgets/base",
            "_model_module_version": "1.2.0",
            "_model_name": "LayoutModel",
            "_view_count": null,
            "_view_module": "@jupyter-widgets/base",
            "_view_module_version": "1.2.0",
            "_view_name": "LayoutView",
            "align_content": null,
            "align_items": null,
            "align_self": null,
            "border": null,
            "bottom": null,
            "display": null,
            "flex": null,
            "flex_flow": null,
            "grid_area": null,
            "grid_auto_columns": null,
            "grid_auto_flow": null,
            "grid_auto_rows": null,
            "grid_column": null,
            "grid_gap": null,
            "grid_row": null,
            "grid_template_areas": null,
            "grid_template_columns": null,
            "grid_template_rows": null,
            "height": null,
            "justify_content": null,
            "justify_items": null,
            "left": null,
            "margin": null,
            "max_height": null,
            "max_width": null,
            "min_height": null,
            "min_width": null,
            "object_fit": null,
            "object_position": null,
            "order": null,
            "overflow": null,
            "overflow_x": null,
            "overflow_y": null,
            "padding": null,
            "right": null,
            "top": null,
            "visibility": null,
            "width": null
          }
        },
        "7823c43248f244e78896ef70906cb9f0": {
          "model_module": "@jupyter-widgets/controls",
          "model_module_version": "1.5.0",
          "model_name": "HTMLModel",
          "state": {
            "_dom_classes": [],
            "_model_module": "@jupyter-widgets/controls",
            "_model_module_version": "1.5.0",
            "_model_name": "HTMLModel",
            "_view_count": null,
            "_view_module": "@jupyter-widgets/controls",
            "_view_module_version": "1.5.0",
            "_view_name": "HTMLView",
            "description": "",
            "description_tooltip": null,
            "layout": "IPY_MODEL_ab74872283044dbf9bf80becad025b57",
            "placeholder": "​",
            "style": "IPY_MODEL_b4f78a2c17c14601876c8dd529d3a09b",
            "value": "tokenizer.json: 100%"
          }
        },
        "7a1252e721d34a0397763e4599483251": {
          "model_module": "@jupyter-widgets/controls",
          "model_module_version": "1.5.0",
          "model_name": "HBoxModel",
          "state": {
            "_dom_classes": [],
            "_model_module": "@jupyter-widgets/controls",
            "_model_module_version": "1.5.0",
            "_model_name": "HBoxModel",
            "_view_count": null,
            "_view_module": "@jupyter-widgets/controls",
            "_view_module_version": "1.5.0",
            "_view_name": "HBoxView",
            "box_style": "",
            "children": [
              "IPY_MODEL_0527508bd86040be8f590daeb4ca53d2",
              "IPY_MODEL_840ae180cadb42089a0df7cdedeba889",
              "IPY_MODEL_489f10b22fc047d3b68b6aabe55e5284"
            ],
            "layout": "IPY_MODEL_afd00a6cb7dc41c082a6687b825d82a6"
          }
        },
        "8230885a0a7e4f529f8718dae3f1e2e0": {
          "model_module": "@jupyter-widgets/controls",
          "model_module_version": "1.5.0",
          "model_name": "FloatProgressModel",
          "state": {
            "_dom_classes": [],
            "_model_module": "@jupyter-widgets/controls",
            "_model_module_version": "1.5.0",
            "_model_name": "FloatProgressModel",
            "_view_count": null,
            "_view_module": "@jupyter-widgets/controls",
            "_view_module_version": "1.5.0",
            "_view_name": "ProgressView",
            "bar_style": "success",
            "description": "",
            "description_tooltip": null,
            "layout": "IPY_MODEL_eb4bedebf6ed46abad3c0337d5fa91b4",
            "max": 26,
            "min": 0,
            "orientation": "horizontal",
            "style": "IPY_MODEL_7185cb6cf68243e7828d8d53d010d597",
            "value": 26
          }
        },
        "82b8d927c06b41d9b1a4fb82d3a791e3": {
          "model_module": "@jupyter-widgets/controls",
          "model_module_version": "1.5.0",
          "model_name": "DescriptionStyleModel",
          "state": {
            "_model_module": "@jupyter-widgets/controls",
            "_model_module_version": "1.5.0",
            "_model_name": "DescriptionStyleModel",
            "_view_count": null,
            "_view_module": "@jupyter-widgets/base",
            "_view_module_version": "1.2.0",
            "_view_name": "StyleView",
            "description_width": ""
          }
        },
        "82ffcba3bb784555b9152205b1aef19d": {
          "model_module": "@jupyter-widgets/controls",
          "model_module_version": "1.5.0",
          "model_name": "DescriptionStyleModel",
          "state": {
            "_model_module": "@jupyter-widgets/controls",
            "_model_module_version": "1.5.0",
            "_model_name": "DescriptionStyleModel",
            "_view_count": null,
            "_view_module": "@jupyter-widgets/base",
            "_view_module_version": "1.2.0",
            "_view_name": "StyleView",
            "description_width": ""
          }
        },
        "83e11f7ff2674ac4b588f41d259dc3ac": {
          "model_module": "@jupyter-widgets/controls",
          "model_module_version": "1.5.0",
          "model_name": "ProgressStyleModel",
          "state": {
            "_model_module": "@jupyter-widgets/controls",
            "_model_module_version": "1.5.0",
            "_model_name": "ProgressStyleModel",
            "_view_count": null,
            "_view_module": "@jupyter-widgets/base",
            "_view_module_version": "1.2.0",
            "_view_name": "StyleView",
            "bar_color": null,
            "description_width": ""
          }
        },
        "840ae180cadb42089a0df7cdedeba889": {
          "model_module": "@jupyter-widgets/controls",
          "model_module_version": "1.5.0",
          "model_name": "FloatProgressModel",
          "state": {
            "_dom_classes": [],
            "_model_module": "@jupyter-widgets/controls",
            "_model_module_version": "1.5.0",
            "_model_name": "FloatProgressModel",
            "_view_count": null,
            "_view_module": "@jupyter-widgets/controls",
            "_view_module_version": "1.5.0",
            "_view_name": "ProgressView",
            "bar_style": "success",
            "description": "",
            "description_tooltip": null,
            "layout": "IPY_MODEL_6d4390cf2e01422291a05098402b7e47",
            "max": 124,
            "min": 0,
            "orientation": "horizontal",
            "style": "IPY_MODEL_b67316285a6043e88f9cb997f1cee4f2",
            "value": 124
          }
        },
        "8545d83b365f46d59ab0ff219aecc535": {
          "model_module": "@jupyter-widgets/controls",
          "model_module_version": "1.5.0",
          "model_name": "FloatProgressModel",
          "state": {
            "_dom_classes": [],
            "_model_module": "@jupyter-widgets/controls",
            "_model_module_version": "1.5.0",
            "_model_name": "FloatProgressModel",
            "_view_count": null,
            "_view_module": "@jupyter-widgets/controls",
            "_view_module_version": "1.5.0",
            "_view_name": "ProgressView",
            "bar_style": "success",
            "description": "",
            "description_tooltip": null,
            "layout": "IPY_MODEL_0a470824ecff4964b4c4b502c468863b",
            "max": 665,
            "min": 0,
            "orientation": "horizontal",
            "style": "IPY_MODEL_1aa0e2f4e9c048b1b5e23a28ce5ac4f1",
            "value": 665
          }
        },
        "87b0bcedfa8e40708724934b29cbcddc": {
          "model_module": "@jupyter-widgets/controls",
          "model_module_version": "1.5.0",
          "model_name": "DescriptionStyleModel",
          "state": {
            "_model_module": "@jupyter-widgets/controls",
            "_model_module_version": "1.5.0",
            "_model_name": "DescriptionStyleModel",
            "_view_count": null,
            "_view_module": "@jupyter-widgets/base",
            "_view_module_version": "1.2.0",
            "_view_name": "StyleView",
            "description_width": ""
          }
        },
        "87c614c2d7614333b0845bf373918249": {
          "model_module": "@jupyter-widgets/controls",
          "model_module_version": "1.5.0",
          "model_name": "ProgressStyleModel",
          "state": {
            "_model_module": "@jupyter-widgets/controls",
            "_model_module_version": "1.5.0",
            "_model_name": "ProgressStyleModel",
            "_view_count": null,
            "_view_module": "@jupyter-widgets/base",
            "_view_module_version": "1.2.0",
            "_view_name": "StyleView",
            "bar_color": null,
            "description_width": ""
          }
        },
        "8ee80429a0184dc4b0db62af9e29ebb3": {
          "model_module": "@jupyter-widgets/controls",
          "model_module_version": "1.5.0",
          "model_name": "DescriptionStyleModel",
          "state": {
            "_model_module": "@jupyter-widgets/controls",
            "_model_module_version": "1.5.0",
            "_model_name": "DescriptionStyleModel",
            "_view_count": null,
            "_view_module": "@jupyter-widgets/base",
            "_view_module_version": "1.2.0",
            "_view_name": "StyleView",
            "description_width": ""
          }
        },
        "97b8d5a6c83344de84bc67af070e6e0b": {
          "model_module": "@jupyter-widgets/controls",
          "model_module_version": "1.5.0",
          "model_name": "HBoxModel",
          "state": {
            "_dom_classes": [],
            "_model_module": "@jupyter-widgets/controls",
            "_model_module_version": "1.5.0",
            "_model_name": "HBoxModel",
            "_view_count": null,
            "_view_module": "@jupyter-widgets/controls",
            "_view_module_version": "1.5.0",
            "_view_name": "HBoxView",
            "box_style": "",
            "children": [
              "IPY_MODEL_fb28ef4b9a9c49d0abc5c8824ce908fc",
              "IPY_MODEL_8545d83b365f46d59ab0ff219aecc535",
              "IPY_MODEL_dea85601d74b46eda0e8eba68e0e3943"
            ],
            "layout": "IPY_MODEL_fe2d9a1535ea49ac8f166b079511db6e"
          }
        },
        "9a486306fddd46dfbafb2f1134830021": {
          "model_module": "@jupyter-widgets/controls",
          "model_module_version": "1.5.0",
          "model_name": "HBoxModel",
          "state": {
            "_dom_classes": [],
            "_model_module": "@jupyter-widgets/controls",
            "_model_module_version": "1.5.0",
            "_model_name": "HBoxModel",
            "_view_count": null,
            "_view_module": "@jupyter-widgets/controls",
            "_view_module_version": "1.5.0",
            "_view_name": "HBoxView",
            "box_style": "",
            "children": [
              "IPY_MODEL_b5cbbce4ec8449179005f1d9a6bb662f",
              "IPY_MODEL_66aa86f9a92e4250bbe640040d2037ea",
              "IPY_MODEL_afadba1efed449bfae993d05b89717d4"
            ],
            "layout": "IPY_MODEL_ebc85f6535b5427a88cd79d2703bd146"
          }
        },
        "9a6c7a0664c64406b50124c96bbe54d3": {
          "model_module": "@jupyter-widgets/base",
          "model_module_version": "1.2.0",
          "model_name": "LayoutModel",
          "state": {
            "_model_module": "@jupyter-widgets/base",
            "_model_module_version": "1.2.0",
            "_model_name": "LayoutModel",
            "_view_count": null,
            "_view_module": "@jupyter-widgets/base",
            "_view_module_version": "1.2.0",
            "_view_name": "LayoutView",
            "align_content": null,
            "align_items": null,
            "align_self": null,
            "border": null,
            "bottom": null,
            "display": null,
            "flex": null,
            "flex_flow": null,
            "grid_area": null,
            "grid_auto_columns": null,
            "grid_auto_flow": null,
            "grid_auto_rows": null,
            "grid_column": null,
            "grid_gap": null,
            "grid_row": null,
            "grid_template_areas": null,
            "grid_template_columns": null,
            "grid_template_rows": null,
            "height": null,
            "justify_content": null,
            "justify_items": null,
            "left": null,
            "margin": null,
            "max_height": null,
            "max_width": null,
            "min_height": null,
            "min_width": null,
            "object_fit": null,
            "object_position": null,
            "order": null,
            "overflow": null,
            "overflow_x": null,
            "overflow_y": null,
            "padding": null,
            "right": null,
            "top": null,
            "visibility": null,
            "width": null
          }
        },
        "9ed71f1521e34c4495e55568b83e4570": {
          "model_module": "@jupyter-widgets/base",
          "model_module_version": "1.2.0",
          "model_name": "LayoutModel",
          "state": {
            "_model_module": "@jupyter-widgets/base",
            "_model_module_version": "1.2.0",
            "_model_name": "LayoutModel",
            "_view_count": null,
            "_view_module": "@jupyter-widgets/base",
            "_view_module_version": "1.2.0",
            "_view_name": "LayoutView",
            "align_content": null,
            "align_items": null,
            "align_self": null,
            "border": null,
            "bottom": null,
            "display": null,
            "flex": null,
            "flex_flow": null,
            "grid_area": null,
            "grid_auto_columns": null,
            "grid_auto_flow": null,
            "grid_auto_rows": null,
            "grid_column": null,
            "grid_gap": null,
            "grid_row": null,
            "grid_template_areas": null,
            "grid_template_columns": null,
            "grid_template_rows": null,
            "height": null,
            "justify_content": null,
            "justify_items": null,
            "left": null,
            "margin": null,
            "max_height": null,
            "max_width": null,
            "min_height": null,
            "min_width": null,
            "object_fit": null,
            "object_position": null,
            "order": null,
            "overflow": null,
            "overflow_x": null,
            "overflow_y": null,
            "padding": null,
            "right": null,
            "top": null,
            "visibility": null,
            "width": null
          }
        },
        "a05d7d03586c4b5a838744169a63673a": {
          "model_module": "@jupyter-widgets/base",
          "model_module_version": "1.2.0",
          "model_name": "LayoutModel",
          "state": {
            "_model_module": "@jupyter-widgets/base",
            "_model_module_version": "1.2.0",
            "_model_name": "LayoutModel",
            "_view_count": null,
            "_view_module": "@jupyter-widgets/base",
            "_view_module_version": "1.2.0",
            "_view_name": "LayoutView",
            "align_content": null,
            "align_items": null,
            "align_self": null,
            "border": null,
            "bottom": null,
            "display": null,
            "flex": null,
            "flex_flow": null,
            "grid_area": null,
            "grid_auto_columns": null,
            "grid_auto_flow": null,
            "grid_auto_rows": null,
            "grid_column": null,
            "grid_gap": null,
            "grid_row": null,
            "grid_template_areas": null,
            "grid_template_columns": null,
            "grid_template_rows": null,
            "height": null,
            "justify_content": null,
            "justify_items": null,
            "left": null,
            "margin": null,
            "max_height": null,
            "max_width": null,
            "min_height": null,
            "min_width": null,
            "object_fit": null,
            "object_position": null,
            "order": null,
            "overflow": null,
            "overflow_x": null,
            "overflow_y": null,
            "padding": null,
            "right": null,
            "top": null,
            "visibility": null,
            "width": null
          }
        },
        "a2243bef5fac47b5ab813f27c1f2b4b1": {
          "model_module": "@jupyter-widgets/controls",
          "model_module_version": "1.5.0",
          "model_name": "HTMLModel",
          "state": {
            "_dom_classes": [],
            "_model_module": "@jupyter-widgets/controls",
            "_model_module_version": "1.5.0",
            "_model_name": "HTMLModel",
            "_view_count": null,
            "_view_module": "@jupyter-widgets/controls",
            "_view_module_version": "1.5.0",
            "_view_name": "HTMLView",
            "description": "",
            "description_tooltip": null,
            "layout": "IPY_MODEL_d0bbd946c46d4f75a80ebe63ffe0a90a",
            "placeholder": "​",
            "style": "IPY_MODEL_6fb03a956e60402a90d97ce5c0c1e8f5",
            "value": " 1.36M/1.36M [00:00&lt;00:00, 6.77MB/s]"
          }
        },
        "a39e735e9ded485b8ff66b9af1ace2b0": {
          "model_module": "@jupyter-widgets/base",
          "model_module_version": "1.2.0",
          "model_name": "LayoutModel",
          "state": {
            "_model_module": "@jupyter-widgets/base",
            "_model_module_version": "1.2.0",
            "_model_name": "LayoutModel",
            "_view_count": null,
            "_view_module": "@jupyter-widgets/base",
            "_view_module_version": "1.2.0",
            "_view_name": "LayoutView",
            "align_content": null,
            "align_items": null,
            "align_self": null,
            "border": null,
            "bottom": null,
            "display": null,
            "flex": null,
            "flex_flow": null,
            "grid_area": null,
            "grid_auto_columns": null,
            "grid_auto_flow": null,
            "grid_auto_rows": null,
            "grid_column": null,
            "grid_gap": null,
            "grid_row": null,
            "grid_template_areas": null,
            "grid_template_columns": null,
            "grid_template_rows": null,
            "height": null,
            "justify_content": null,
            "justify_items": null,
            "left": null,
            "margin": null,
            "max_height": null,
            "max_width": null,
            "min_height": null,
            "min_width": null,
            "object_fit": null,
            "object_position": null,
            "order": null,
            "overflow": null,
            "overflow_x": null,
            "overflow_y": null,
            "padding": null,
            "right": null,
            "top": null,
            "visibility": null,
            "width": null
          }
        },
        "ab57fec47f934759b128866cc25c8eb7": {
          "model_module": "@jupyter-widgets/controls",
          "model_module_version": "1.5.0",
          "model_name": "HTMLModel",
          "state": {
            "_dom_classes": [],
            "_model_module": "@jupyter-widgets/controls",
            "_model_module_version": "1.5.0",
            "_model_name": "HTMLModel",
            "_view_count": null,
            "_view_module": "@jupyter-widgets/controls",
            "_view_module_version": "1.5.0",
            "_view_name": "HTMLView",
            "description": "",
            "description_tooltip": null,
            "layout": "IPY_MODEL_9a6c7a0664c64406b50124c96bbe54d3",
            "placeholder": "​",
            "style": "IPY_MODEL_da2b24c10f1a4264a8a5528b71eef5c2",
            "value": "tokenizer_config.json: 100%"
          }
        },
        "ab74872283044dbf9bf80becad025b57": {
          "model_module": "@jupyter-widgets/base",
          "model_module_version": "1.2.0",
          "model_name": "LayoutModel",
          "state": {
            "_model_module": "@jupyter-widgets/base",
            "_model_module_version": "1.2.0",
            "_model_name": "LayoutModel",
            "_view_count": null,
            "_view_module": "@jupyter-widgets/base",
            "_view_module_version": "1.2.0",
            "_view_name": "LayoutView",
            "align_content": null,
            "align_items": null,
            "align_self": null,
            "border": null,
            "bottom": null,
            "display": null,
            "flex": null,
            "flex_flow": null,
            "grid_area": null,
            "grid_auto_columns": null,
            "grid_auto_flow": null,
            "grid_auto_rows": null,
            "grid_column": null,
            "grid_gap": null,
            "grid_row": null,
            "grid_template_areas": null,
            "grid_template_columns": null,
            "grid_template_rows": null,
            "height": null,
            "justify_content": null,
            "justify_items": null,
            "left": null,
            "margin": null,
            "max_height": null,
            "max_width": null,
            "min_height": null,
            "min_width": null,
            "object_fit": null,
            "object_position": null,
            "order": null,
            "overflow": null,
            "overflow_x": null,
            "overflow_y": null,
            "padding": null,
            "right": null,
            "top": null,
            "visibility": null,
            "width": null
          }
        },
        "afadba1efed449bfae993d05b89717d4": {
          "model_module": "@jupyter-widgets/controls",
          "model_module_version": "1.5.0",
          "model_name": "HTMLModel",
          "state": {
            "_dom_classes": [],
            "_model_module": "@jupyter-widgets/controls",
            "_model_module_version": "1.5.0",
            "_model_name": "HTMLModel",
            "_view_count": null,
            "_view_module": "@jupyter-widgets/controls",
            "_view_module_version": "1.5.0",
            "_view_name": "HTMLView",
            "description": "",
            "description_tooltip": null,
            "layout": "IPY_MODEL_a39e735e9ded485b8ff66b9af1ace2b0",
            "placeholder": "​",
            "style": "IPY_MODEL_54b79544cbe1401da73bed344f670288",
            "value": " 456k/456k [00:00&lt;00:00, 12.1MB/s]"
          }
        },
        "afd00a6cb7dc41c082a6687b825d82a6": {
          "model_module": "@jupyter-widgets/base",
          "model_module_version": "1.2.0",
          "model_name": "LayoutModel",
          "state": {
            "_model_module": "@jupyter-widgets/base",
            "_model_module_version": "1.2.0",
            "_model_name": "LayoutModel",
            "_view_count": null,
            "_view_module": "@jupyter-widgets/base",
            "_view_module_version": "1.2.0",
            "_view_name": "LayoutView",
            "align_content": null,
            "align_items": null,
            "align_self": null,
            "border": null,
            "bottom": null,
            "display": null,
            "flex": null,
            "flex_flow": null,
            "grid_area": null,
            "grid_auto_columns": null,
            "grid_auto_flow": null,
            "grid_auto_rows": null,
            "grid_column": null,
            "grid_gap": null,
            "grid_row": null,
            "grid_template_areas": null,
            "grid_template_columns": null,
            "grid_template_rows": null,
            "height": null,
            "justify_content": null,
            "justify_items": null,
            "left": null,
            "margin": null,
            "max_height": null,
            "max_width": null,
            "min_height": null,
            "min_width": null,
            "object_fit": null,
            "object_position": null,
            "order": null,
            "overflow": null,
            "overflow_x": null,
            "overflow_y": null,
            "padding": null,
            "right": null,
            "top": null,
            "visibility": null,
            "width": null
          }
        },
        "b4f78a2c17c14601876c8dd529d3a09b": {
          "model_module": "@jupyter-widgets/controls",
          "model_module_version": "1.5.0",
          "model_name": "DescriptionStyleModel",
          "state": {
            "_model_module": "@jupyter-widgets/controls",
            "_model_module_version": "1.5.0",
            "_model_name": "DescriptionStyleModel",
            "_view_count": null,
            "_view_module": "@jupyter-widgets/base",
            "_view_module_version": "1.2.0",
            "_view_name": "StyleView",
            "description_width": ""
          }
        },
        "b5cbbce4ec8449179005f1d9a6bb662f": {
          "model_module": "@jupyter-widgets/controls",
          "model_module_version": "1.5.0",
          "model_name": "HTMLModel",
          "state": {
            "_dom_classes": [],
            "_model_module": "@jupyter-widgets/controls",
            "_model_module_version": "1.5.0",
            "_model_name": "HTMLModel",
            "_view_count": null,
            "_view_module": "@jupyter-widgets/controls",
            "_view_module_version": "1.5.0",
            "_view_name": "HTMLView",
            "description": "",
            "description_tooltip": null,
            "layout": "IPY_MODEL_46c34b20b04c4e889cf332e03e15ef45",
            "placeholder": "​",
            "style": "IPY_MODEL_3e1800e778444a03b0af819fb3e105b9",
            "value": "merges.txt: 100%"
          }
        },
        "b67316285a6043e88f9cb997f1cee4f2": {
          "model_module": "@jupyter-widgets/controls",
          "model_module_version": "1.5.0",
          "model_name": "ProgressStyleModel",
          "state": {
            "_model_module": "@jupyter-widgets/controls",
            "_model_module_version": "1.5.0",
            "_model_name": "ProgressStyleModel",
            "_view_count": null,
            "_view_module": "@jupyter-widgets/base",
            "_view_module_version": "1.2.0",
            "_view_name": "StyleView",
            "bar_color": null,
            "description_width": ""
          }
        },
        "b755b683f92743efa55cb79074ecf131": {
          "model_module": "@jupyter-widgets/controls",
          "model_module_version": "1.5.0",
          "model_name": "HBoxModel",
          "state": {
            "_dom_classes": [],
            "_model_module": "@jupyter-widgets/controls",
            "_model_module_version": "1.5.0",
            "_model_name": "HBoxModel",
            "_view_count": null,
            "_view_module": "@jupyter-widgets/controls",
            "_view_module_version": "1.5.0",
            "_view_name": "HBoxView",
            "box_style": "",
            "children": [
              "IPY_MODEL_4ea4b092c983446c942eebd81e927179",
              "IPY_MODEL_1077d185eb07447792e54c89e3829afd",
              "IPY_MODEL_d6749577c838497bafa23c15e576b3f1"
            ],
            "layout": "IPY_MODEL_1bf7c9ed2325476c9e8125ed522c2bb7"
          }
        },
        "bd59ca30616343d2b22071757f147cd9": {
          "model_module": "@jupyter-widgets/controls",
          "model_module_version": "1.5.0",
          "model_name": "DescriptionStyleModel",
          "state": {
            "_model_module": "@jupyter-widgets/controls",
            "_model_module_version": "1.5.0",
            "_model_name": "DescriptionStyleModel",
            "_view_count": null,
            "_view_module": "@jupyter-widgets/base",
            "_view_module_version": "1.2.0",
            "_view_name": "StyleView",
            "description_width": ""
          }
        },
        "c3467ecc18014ff5a5a854744a6452bd": {
          "model_module": "@jupyter-widgets/controls",
          "model_module_version": "1.5.0",
          "model_name": "DescriptionStyleModel",
          "state": {
            "_model_module": "@jupyter-widgets/controls",
            "_model_module_version": "1.5.0",
            "_model_name": "DescriptionStyleModel",
            "_view_count": null,
            "_view_module": "@jupyter-widgets/base",
            "_view_module_version": "1.2.0",
            "_view_name": "StyleView",
            "description_width": ""
          }
        },
        "cbc9731691cc4f84bd6acf28854ab35a": {
          "model_module": "@jupyter-widgets/controls",
          "model_module_version": "1.5.0",
          "model_name": "HTMLModel",
          "state": {
            "_dom_classes": [],
            "_model_module": "@jupyter-widgets/controls",
            "_model_module_version": "1.5.0",
            "_model_name": "HTMLModel",
            "_view_count": null,
            "_view_module": "@jupyter-widgets/controls",
            "_view_module_version": "1.5.0",
            "_view_name": "HTMLView",
            "description": "",
            "description_tooltip": null,
            "layout": "IPY_MODEL_ef0af6b244514895ac9662a540615261",
            "placeholder": "​",
            "style": "IPY_MODEL_fd26e13ca5ee4f1d869d4ee07f7428bb",
            "value": "vocab.json: 100%"
          }
        },
        "cf981aa5ae4b4cdf8b9144e2b1bad967": {
          "model_module": "@jupyter-widgets/base",
          "model_module_version": "1.2.0",
          "model_name": "LayoutModel",
          "state": {
            "_model_module": "@jupyter-widgets/base",
            "_model_module_version": "1.2.0",
            "_model_name": "LayoutModel",
            "_view_count": null,
            "_view_module": "@jupyter-widgets/base",
            "_view_module_version": "1.2.0",
            "_view_name": "LayoutView",
            "align_content": null,
            "align_items": null,
            "align_self": null,
            "border": null,
            "bottom": null,
            "display": null,
            "flex": null,
            "flex_flow": null,
            "grid_area": null,
            "grid_auto_columns": null,
            "grid_auto_flow": null,
            "grid_auto_rows": null,
            "grid_column": null,
            "grid_gap": null,
            "grid_row": null,
            "grid_template_areas": null,
            "grid_template_columns": null,
            "grid_template_rows": null,
            "height": null,
            "justify_content": null,
            "justify_items": null,
            "left": null,
            "margin": null,
            "max_height": null,
            "max_width": null,
            "min_height": null,
            "min_width": null,
            "object_fit": null,
            "object_position": null,
            "order": null,
            "overflow": null,
            "overflow_x": null,
            "overflow_y": null,
            "padding": null,
            "right": null,
            "top": null,
            "visibility": null,
            "width": null
          }
        },
        "d0bbd946c46d4f75a80ebe63ffe0a90a": {
          "model_module": "@jupyter-widgets/base",
          "model_module_version": "1.2.0",
          "model_name": "LayoutModel",
          "state": {
            "_model_module": "@jupyter-widgets/base",
            "_model_module_version": "1.2.0",
            "_model_name": "LayoutModel",
            "_view_count": null,
            "_view_module": "@jupyter-widgets/base",
            "_view_module_version": "1.2.0",
            "_view_name": "LayoutView",
            "align_content": null,
            "align_items": null,
            "align_self": null,
            "border": null,
            "bottom": null,
            "display": null,
            "flex": null,
            "flex_flow": null,
            "grid_area": null,
            "grid_auto_columns": null,
            "grid_auto_flow": null,
            "grid_auto_rows": null,
            "grid_column": null,
            "grid_gap": null,
            "grid_row": null,
            "grid_template_areas": null,
            "grid_template_columns": null,
            "grid_template_rows": null,
            "height": null,
            "justify_content": null,
            "justify_items": null,
            "left": null,
            "margin": null,
            "max_height": null,
            "max_width": null,
            "min_height": null,
            "min_width": null,
            "object_fit": null,
            "object_position": null,
            "order": null,
            "overflow": null,
            "overflow_x": null,
            "overflow_y": null,
            "padding": null,
            "right": null,
            "top": null,
            "visibility": null,
            "width": null
          }
        },
        "d4d83fd5591c4e01acbdae8860b75718": {
          "model_module": "@jupyter-widgets/controls",
          "model_module_version": "1.5.0",
          "model_name": "DescriptionStyleModel",
          "state": {
            "_model_module": "@jupyter-widgets/controls",
            "_model_module_version": "1.5.0",
            "_model_name": "DescriptionStyleModel",
            "_view_count": null,
            "_view_module": "@jupyter-widgets/base",
            "_view_module_version": "1.2.0",
            "_view_name": "StyleView",
            "description_width": ""
          }
        },
        "d5e48505a8bb4fa08dbaec195aacc972": {
          "model_module": "@jupyter-widgets/base",
          "model_module_version": "1.2.0",
          "model_name": "LayoutModel",
          "state": {
            "_model_module": "@jupyter-widgets/base",
            "_model_module_version": "1.2.0",
            "_model_name": "LayoutModel",
            "_view_count": null,
            "_view_module": "@jupyter-widgets/base",
            "_view_module_version": "1.2.0",
            "_view_name": "LayoutView",
            "align_content": null,
            "align_items": null,
            "align_self": null,
            "border": null,
            "bottom": null,
            "display": null,
            "flex": null,
            "flex_flow": null,
            "grid_area": null,
            "grid_auto_columns": null,
            "grid_auto_flow": null,
            "grid_auto_rows": null,
            "grid_column": null,
            "grid_gap": null,
            "grid_row": null,
            "grid_template_areas": null,
            "grid_template_columns": null,
            "grid_template_rows": null,
            "height": null,
            "justify_content": null,
            "justify_items": null,
            "left": null,
            "margin": null,
            "max_height": null,
            "max_width": null,
            "min_height": null,
            "min_width": null,
            "object_fit": null,
            "object_position": null,
            "order": null,
            "overflow": null,
            "overflow_x": null,
            "overflow_y": null,
            "padding": null,
            "right": null,
            "top": null,
            "visibility": null,
            "width": null
          }
        },
        "d668fa22297342edb98cd64d3b07b78e": {
          "model_module": "@jupyter-widgets/controls",
          "model_module_version": "1.5.0",
          "model_name": "ProgressStyleModel",
          "state": {
            "_model_module": "@jupyter-widgets/controls",
            "_model_module_version": "1.5.0",
            "_model_name": "ProgressStyleModel",
            "_view_count": null,
            "_view_module": "@jupyter-widgets/base",
            "_view_module_version": "1.2.0",
            "_view_name": "StyleView",
            "bar_color": null,
            "description_width": ""
          }
        },
        "d6749577c838497bafa23c15e576b3f1": {
          "model_module": "@jupyter-widgets/controls",
          "model_module_version": "1.5.0",
          "model_name": "HTMLModel",
          "state": {
            "_dom_classes": [],
            "_model_module": "@jupyter-widgets/controls",
            "_model_module_version": "1.5.0",
            "_model_name": "HTMLModel",
            "_view_count": null,
            "_view_module": "@jupyter-widgets/controls",
            "_view_module_version": "1.5.0",
            "_view_name": "HTMLView",
            "description": "",
            "description_tooltip": null,
            "layout": "IPY_MODEL_33b7271a355d402ea7f01816acc859c7",
            "placeholder": "​",
            "style": "IPY_MODEL_d4d83fd5591c4e01acbdae8860b75718",
            "value": " 548M/548M [00:07&lt;00:00, 91.8MB/s]"
          }
        },
        "d7711da50db74e3f9394b009bc187279": {
          "model_module": "@jupyter-widgets/base",
          "model_module_version": "1.2.0",
          "model_name": "LayoutModel",
          "state": {
            "_model_module": "@jupyter-widgets/base",
            "_model_module_version": "1.2.0",
            "_model_name": "LayoutModel",
            "_view_count": null,
            "_view_module": "@jupyter-widgets/base",
            "_view_module_version": "1.2.0",
            "_view_name": "LayoutView",
            "align_content": null,
            "align_items": null,
            "align_self": null,
            "border": null,
            "bottom": null,
            "display": null,
            "flex": null,
            "flex_flow": null,
            "grid_area": null,
            "grid_auto_columns": null,
            "grid_auto_flow": null,
            "grid_auto_rows": null,
            "grid_column": null,
            "grid_gap": null,
            "grid_row": null,
            "grid_template_areas": null,
            "grid_template_columns": null,
            "grid_template_rows": null,
            "height": null,
            "justify_content": null,
            "justify_items": null,
            "left": null,
            "margin": null,
            "max_height": null,
            "max_width": null,
            "min_height": null,
            "min_width": null,
            "object_fit": null,
            "object_position": null,
            "order": null,
            "overflow": null,
            "overflow_x": null,
            "overflow_y": null,
            "padding": null,
            "right": null,
            "top": null,
            "visibility": null,
            "width": null
          }
        },
        "da2b24c10f1a4264a8a5528b71eef5c2": {
          "model_module": "@jupyter-widgets/controls",
          "model_module_version": "1.5.0",
          "model_name": "DescriptionStyleModel",
          "state": {
            "_model_module": "@jupyter-widgets/controls",
            "_model_module_version": "1.5.0",
            "_model_name": "DescriptionStyleModel",
            "_view_count": null,
            "_view_module": "@jupyter-widgets/base",
            "_view_module_version": "1.2.0",
            "_view_name": "StyleView",
            "description_width": ""
          }
        },
        "dea85601d74b46eda0e8eba68e0e3943": {
          "model_module": "@jupyter-widgets/controls",
          "model_module_version": "1.5.0",
          "model_name": "HTMLModel",
          "state": {
            "_dom_classes": [],
            "_model_module": "@jupyter-widgets/controls",
            "_model_module_version": "1.5.0",
            "_model_name": "HTMLModel",
            "_view_count": null,
            "_view_module": "@jupyter-widgets/controls",
            "_view_module_version": "1.5.0",
            "_view_name": "HTMLView",
            "description": "",
            "description_tooltip": null,
            "layout": "IPY_MODEL_565443a933cc4fa8838ef4989bc30312",
            "placeholder": "​",
            "style": "IPY_MODEL_c3467ecc18014ff5a5a854744a6452bd",
            "value": " 665/665 [00:00&lt;00:00, 18.9kB/s]"
          }
        },
        "deebded9bc454531bce0ccc3ce29f38d": {
          "model_module": "@jupyter-widgets/controls",
          "model_module_version": "1.5.0",
          "model_name": "HBoxModel",
          "state": {
            "_dom_classes": [],
            "_model_module": "@jupyter-widgets/controls",
            "_model_module_version": "1.5.0",
            "_model_name": "HBoxModel",
            "_view_count": null,
            "_view_module": "@jupyter-widgets/controls",
            "_view_module_version": "1.5.0",
            "_view_name": "HBoxView",
            "box_style": "",
            "children": [
              "IPY_MODEL_cbc9731691cc4f84bd6acf28854ab35a",
              "IPY_MODEL_36feed5bc9364379a26f770d9e8aeaa0",
              "IPY_MODEL_360c55617b6247b19cd08086040e9217"
            ],
            "layout": "IPY_MODEL_cf981aa5ae4b4cdf8b9144e2b1bad967"
          }
        },
        "dfa0506d4c3e4f1999869f50a0a4237a": {
          "model_module": "@jupyter-widgets/controls",
          "model_module_version": "1.5.0",
          "model_name": "FloatProgressModel",
          "state": {
            "_dom_classes": [],
            "_model_module": "@jupyter-widgets/controls",
            "_model_module_version": "1.5.0",
            "_model_name": "FloatProgressModel",
            "_view_count": null,
            "_view_module": "@jupyter-widgets/controls",
            "_view_module_version": "1.5.0",
            "_view_name": "ProgressView",
            "bar_style": "success",
            "description": "",
            "description_tooltip": null,
            "layout": "IPY_MODEL_e1e8dd9c682043f1b25a095e61ad49bc",
            "max": 1355256,
            "min": 0,
            "orientation": "horizontal",
            "style": "IPY_MODEL_d668fa22297342edb98cd64d3b07b78e",
            "value": 1355256
          }
        },
        "e1e8dd9c682043f1b25a095e61ad49bc": {
          "model_module": "@jupyter-widgets/base",
          "model_module_version": "1.2.0",
          "model_name": "LayoutModel",
          "state": {
            "_model_module": "@jupyter-widgets/base",
            "_model_module_version": "1.2.0",
            "_model_name": "LayoutModel",
            "_view_count": null,
            "_view_module": "@jupyter-widgets/base",
            "_view_module_version": "1.2.0",
            "_view_name": "LayoutView",
            "align_content": null,
            "align_items": null,
            "align_self": null,
            "border": null,
            "bottom": null,
            "display": null,
            "flex": null,
            "flex_flow": null,
            "grid_area": null,
            "grid_auto_columns": null,
            "grid_auto_flow": null,
            "grid_auto_rows": null,
            "grid_column": null,
            "grid_gap": null,
            "grid_row": null,
            "grid_template_areas": null,
            "grid_template_columns": null,
            "grid_template_rows": null,
            "height": null,
            "justify_content": null,
            "justify_items": null,
            "left": null,
            "margin": null,
            "max_height": null,
            "max_width": null,
            "min_height": null,
            "min_width": null,
            "object_fit": null,
            "object_position": null,
            "order": null,
            "overflow": null,
            "overflow_x": null,
            "overflow_y": null,
            "padding": null,
            "right": null,
            "top": null,
            "visibility": null,
            "width": null
          }
        },
        "eb4bedebf6ed46abad3c0337d5fa91b4": {
          "model_module": "@jupyter-widgets/base",
          "model_module_version": "1.2.0",
          "model_name": "LayoutModel",
          "state": {
            "_model_module": "@jupyter-widgets/base",
            "_model_module_version": "1.2.0",
            "_model_name": "LayoutModel",
            "_view_count": null,
            "_view_module": "@jupyter-widgets/base",
            "_view_module_version": "1.2.0",
            "_view_name": "LayoutView",
            "align_content": null,
            "align_items": null,
            "align_self": null,
            "border": null,
            "bottom": null,
            "display": null,
            "flex": null,
            "flex_flow": null,
            "grid_area": null,
            "grid_auto_columns": null,
            "grid_auto_flow": null,
            "grid_auto_rows": null,
            "grid_column": null,
            "grid_gap": null,
            "grid_row": null,
            "grid_template_areas": null,
            "grid_template_columns": null,
            "grid_template_rows": null,
            "height": null,
            "justify_content": null,
            "justify_items": null,
            "left": null,
            "margin": null,
            "max_height": null,
            "max_width": null,
            "min_height": null,
            "min_width": null,
            "object_fit": null,
            "object_position": null,
            "order": null,
            "overflow": null,
            "overflow_x": null,
            "overflow_y": null,
            "padding": null,
            "right": null,
            "top": null,
            "visibility": null,
            "width": null
          }
        },
        "ebc85f6535b5427a88cd79d2703bd146": {
          "model_module": "@jupyter-widgets/base",
          "model_module_version": "1.2.0",
          "model_name": "LayoutModel",
          "state": {
            "_model_module": "@jupyter-widgets/base",
            "_model_module_version": "1.2.0",
            "_model_name": "LayoutModel",
            "_view_count": null,
            "_view_module": "@jupyter-widgets/base",
            "_view_module_version": "1.2.0",
            "_view_name": "LayoutView",
            "align_content": null,
            "align_items": null,
            "align_self": null,
            "border": null,
            "bottom": null,
            "display": null,
            "flex": null,
            "flex_flow": null,
            "grid_area": null,
            "grid_auto_columns": null,
            "grid_auto_flow": null,
            "grid_auto_rows": null,
            "grid_column": null,
            "grid_gap": null,
            "grid_row": null,
            "grid_template_areas": null,
            "grid_template_columns": null,
            "grid_template_rows": null,
            "height": null,
            "justify_content": null,
            "justify_items": null,
            "left": null,
            "margin": null,
            "max_height": null,
            "max_width": null,
            "min_height": null,
            "min_width": null,
            "object_fit": null,
            "object_position": null,
            "order": null,
            "overflow": null,
            "overflow_x": null,
            "overflow_y": null,
            "padding": null,
            "right": null,
            "top": null,
            "visibility": null,
            "width": null
          }
        },
        "ecef65044fe94ee0869b94edbad77bc2": {
          "model_module": "@jupyter-widgets/controls",
          "model_module_version": "1.5.0",
          "model_name": "HBoxModel",
          "state": {
            "_dom_classes": [],
            "_model_module": "@jupyter-widgets/controls",
            "_model_module_version": "1.5.0",
            "_model_name": "HBoxModel",
            "_view_count": null,
            "_view_module": "@jupyter-widgets/controls",
            "_view_module_version": "1.5.0",
            "_view_name": "HBoxView",
            "box_style": "",
            "children": [
              "IPY_MODEL_7823c43248f244e78896ef70906cb9f0",
              "IPY_MODEL_dfa0506d4c3e4f1999869f50a0a4237a",
              "IPY_MODEL_a2243bef5fac47b5ab813f27c1f2b4b1"
            ],
            "layout": "IPY_MODEL_d7711da50db74e3f9394b009bc187279"
          }
        },
        "ef0af6b244514895ac9662a540615261": {
          "model_module": "@jupyter-widgets/base",
          "model_module_version": "1.2.0",
          "model_name": "LayoutModel",
          "state": {
            "_model_module": "@jupyter-widgets/base",
            "_model_module_version": "1.2.0",
            "_model_name": "LayoutModel",
            "_view_count": null,
            "_view_module": "@jupyter-widgets/base",
            "_view_module_version": "1.2.0",
            "_view_name": "LayoutView",
            "align_content": null,
            "align_items": null,
            "align_self": null,
            "border": null,
            "bottom": null,
            "display": null,
            "flex": null,
            "flex_flow": null,
            "grid_area": null,
            "grid_auto_columns": null,
            "grid_auto_flow": null,
            "grid_auto_rows": null,
            "grid_column": null,
            "grid_gap": null,
            "grid_row": null,
            "grid_template_areas": null,
            "grid_template_columns": null,
            "grid_template_rows": null,
            "height": null,
            "justify_content": null,
            "justify_items": null,
            "left": null,
            "margin": null,
            "max_height": null,
            "max_width": null,
            "min_height": null,
            "min_width": null,
            "object_fit": null,
            "object_position": null,
            "order": null,
            "overflow": null,
            "overflow_x": null,
            "overflow_y": null,
            "padding": null,
            "right": null,
            "top": null,
            "visibility": null,
            "width": null
          }
        },
        "fb28ef4b9a9c49d0abc5c8824ce908fc": {
          "model_module": "@jupyter-widgets/controls",
          "model_module_version": "1.5.0",
          "model_name": "HTMLModel",
          "state": {
            "_dom_classes": [],
            "_model_module": "@jupyter-widgets/controls",
            "_model_module_version": "1.5.0",
            "_model_name": "HTMLModel",
            "_view_count": null,
            "_view_module": "@jupyter-widgets/controls",
            "_view_module_version": "1.5.0",
            "_view_name": "HTMLView",
            "description": "",
            "description_tooltip": null,
            "layout": "IPY_MODEL_2019e71139404d95bc6e86f5d26dff0b",
            "placeholder": "​",
            "style": "IPY_MODEL_82ffcba3bb784555b9152205b1aef19d",
            "value": "config.json: 100%"
          }
        },
        "fd26e13ca5ee4f1d869d4ee07f7428bb": {
          "model_module": "@jupyter-widgets/controls",
          "model_module_version": "1.5.0",
          "model_name": "DescriptionStyleModel",
          "state": {
            "_model_module": "@jupyter-widgets/controls",
            "_model_module_version": "1.5.0",
            "_model_name": "DescriptionStyleModel",
            "_view_count": null,
            "_view_module": "@jupyter-widgets/base",
            "_view_module_version": "1.2.0",
            "_view_name": "StyleView",
            "description_width": ""
          }
        },
        "fe2d9a1535ea49ac8f166b079511db6e": {
          "model_module": "@jupyter-widgets/base",
          "model_module_version": "1.2.0",
          "model_name": "LayoutModel",
          "state": {
            "_model_module": "@jupyter-widgets/base",
            "_model_module_version": "1.2.0",
            "_model_name": "LayoutModel",
            "_view_count": null,
            "_view_module": "@jupyter-widgets/base",
            "_view_module_version": "1.2.0",
            "_view_name": "LayoutView",
            "align_content": null,
            "align_items": null,
            "align_self": null,
            "border": null,
            "bottom": null,
            "display": null,
            "flex": null,
            "flex_flow": null,
            "grid_area": null,
            "grid_auto_columns": null,
            "grid_auto_flow": null,
            "grid_auto_rows": null,
            "grid_column": null,
            "grid_gap": null,
            "grid_row": null,
            "grid_template_areas": null,
            "grid_template_columns": null,
            "grid_template_rows": null,
            "height": null,
            "justify_content": null,
            "justify_items": null,
            "left": null,
            "margin": null,
            "max_height": null,
            "max_width": null,
            "min_height": null,
            "min_width": null,
            "object_fit": null,
            "object_position": null,
            "order": null,
            "overflow": null,
            "overflow_x": null,
            "overflow_y": null,
            "padding": null,
            "right": null,
            "top": null,
            "visibility": null,
            "width": null
          }
        }
      }
    }
  },
  "nbformat": 4,
  "nbformat_minor": 0
}
